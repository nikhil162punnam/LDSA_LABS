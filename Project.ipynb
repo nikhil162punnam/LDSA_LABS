{
 "cells": [
  {
   "cell_type": "code",
   "execution_count": 30,
   "metadata": {},
   "outputs": [],
   "source": [
    "from pyspark.sql import SparkSession\n",
    "from operator import add"
   ]
  },
  {
   "cell_type": "code",
   "execution_count": 31,
   "metadata": {},
   "outputs": [],
   "source": [
    "spark_session = SparkSession\\\n",
    "        .builder\\\n",
    "        .master(\"spark://host-192-168-1-83-ldsa:7077\") \\\n",
    "        .appName(\"project_team25_start\")\\\n",
    "        .config(\"spark.dynamicAllocation.enabled\", True)\\\n",
    "        .config(\"spark.shuffle.service.enabled\", True)\\\n",
    "        .config(\"spark.dynamicAllocation.executorIdleTimeout\",\"30s\")\\\n",
    "        .config(\"spark.executor.cores\",3)\\\n",
    "        .getOrCreate()\n",
    "\n",
    "# Old API (RDD)\n",
    "spark_context = spark_session.sparkContext"
   ]
  },
  {
   "cell_type": "code",
   "execution_count": 42,
   "metadata": {},
   "outputs": [],
   "source": [
    "# Load the csv from HDFS\n",
    "data_frame = spark_session.read\\\n",
    "    .option(\"header\", \"true\")\\\n",
    "    .csv('hdfs://192.168.1.153:9000/team25/libraryDataset/Library_Collection_Inventory.csv')\\\n",
    "    .cache()"
   ]
  },
  {
   "cell_type": "code",
   "execution_count": 43,
   "metadata": {},
   "outputs": [
    {
     "name": "stdout",
     "output_type": "stream",
     "text": [
      "+-------+--------------------+--------------------+--------------------+---------------+--------------------+--------------------+--------+--------------+------------+------------+----------+---------+\n",
      "| BibNum|               Title|              Author|                ISBN|PublicationYear|           Publisher|            Subjects|ItemType|ItemCollection|FloatingItem|ItemLocation|ReportDate|ItemCount|\n",
      "+-------+--------------------+--------------------+--------------------+---------------+--------------------+--------------------+--------+--------------+------------+------------+----------+---------+\n",
      "|3011076|A tale of two fri...|       O'Ryan, Ellie|1481425730, 14814...|          2014.|    Simon Spotlight,|Musicians Fiction...|    jcbk|         ncrdr|    Floating|         qna|09/01/2017|        1|\n",
      "|2248846|Naruto. Vol. 1, U...|Kishimoto, Masash...|          1569319006|   2003, c1999.|                Viz,|Ninja Japan Comic...|    acbk|       nycomic|          NA|         lcy|09/01/2017|        1|\n",
      "|3209270|Peace, love & Wi-...| Scott, Jerry, 1955-|144945867X, 97814...|          2014.|Andrews McMeel Pu...|Duncan Jeremy Fic...|    acbk|       nycomic|          NA|         bea|09/01/2017|        1|\n",
      "|1907265|The Paris pilgrim...|Carlile, Clancy, ...|          0786706155|         c1999.|     Carroll & Graf,|Hemingway Ernest ...|    acbk|         cafic|          NA|         cen|09/01/2017|        1|\n",
      "|1644616|Erotic by nature ...|                null|          094020813X|   1991, c1988.|Red Alder Books/D...|Erotic literature...|    acbk|          canf|          NA|         cen|09/01/2017|        1|\n",
      "|1736505|Children of Cambo...|                null|0300068395, 03000...|         c1997.|Yale University P...|Political atrocit...|    acbk|          canf|          NA|         cen|09/01/2017|        1|\n",
      "|1749492|Anti-Zionism : an...|                null|          091559773X|         c1989.|        Amana Books,|Berger Elmer 1908...|    acbk|          canf|          NA|         cen|09/01/2017|        1|\n",
      "|3270562|Hard-hearted High...|       London, Julia|0373789998, 03738...|         [2017]|                HQN,|Man woman relatio...|    acbk|         nanew|          NA|         lcy|09/01/2017|        1|\n",
      "|3264577|The Sandcastle Em...|        Olson, Kayla|0062484877, 97800...|          2017.|         HarperTeen,|Survival Juvenile...|    acbk|         nynew|          NA|         nga|09/01/2017|        1|\n",
      "|3236819|Doctor Who. The r...|                null|                null|         [2017]|      BBC Worldwide,|Doctor Fictitious...|   acdvd|         nadvd|    Floating|         wts|09/01/2017|        2|\n",
      "|3018388|Burnt toast makes...|     Flinn, Kathleen|067001544X, 97806...|          2014.|             Viking,|Cooking American ...|    acbk|          nanf|          NA|         mon|09/01/2017|        1|\n",
      "|3122831|Barbie & her sist...|                null|                null|         [2015]|Universal Studios...|Barbie Fictitious...|   jcdvd|         ncdvd|    Floating|         rbe|09/01/2017|        1|\n",
      "|2519097|Stop bullying now...|                null|                null|        [2006?]|U.S. Dept. of Hea...|Bullying in schoo...|   acdvd|       cadvdnf|          NA|         cen|09/01/2017|        1|\n",
      "|3274605|The only child : ...|       Pyper, Andrew|1476755213, 97814...|          2017.|   Simon & Schuster,|Forensic psychiat...|    acbk|         cafic|          NA|         cen|09/01/2017|        1|\n",
      "|3265336|The Jolley-Rogers...|       Duddle, Jonny|0763692921, 97807...|          2017.|Templar Books, an...|Pirates Juvenile ...|    jcbk|          ncef|          NA|         net|09/01/2017|        1|\n",
      "|3154492|Duke in his own w...|                null|1942556195, 97819...|         c2015.|    Topix Media Lab,|Wayne John 1907 1...|    acbk|          nanf|          NA|         bro|09/01/2017|        1|\n",
      "|3167678|The Alchemists' C...|Masson, Cynthea, ...|1770412719, 97817...|          2016.|          ECW Press,|Alchemy Fiction, ...|    acbk|         nafic|          NA|         glk|09/01/2017|        1|\n",
      "|3137398|Parrots of the wi...|Toft, Catherine A...|0520239253, 97805...|         [2015]|University of Cal...|Parrots, Parrots ...|    acbk|          nanf|          NA|         gwd|09/01/2017|        1|\n",
      "|3165211|The aromatherapy ...|      Keville, Kathi|1604695498, 97816...|          2016.|       Timber Press,|Fragrant gardens,...|    acbk|          nanf|          NA|         net|09/01/2017|        1|\n",
      "|2483968|The walking dead....|     Kirkman, Robert|1582408831, 97815...|         c2008.|        Image Comics|Graphic novels, H...|    acbk|       nacomic|          NA|         bal|09/01/2017|        1|\n",
      "+-------+--------------------+--------------------+--------------------+---------------+--------------------+--------------------+--------+--------------+------------+------------+----------+---------+\n",
      "only showing top 20 rows\n",
      "\n"
     ]
    }
   ],
   "source": [
    "data_frame.show()"
   ]
  },
  {
   "cell_type": "code",
   "execution_count": 44,
   "metadata": {},
   "outputs": [
    {
     "data": {
      "text/plain": [
       "2687149"
      ]
     },
     "execution_count": 44,
     "metadata": {},
     "output_type": "execute_result"
    }
   ],
   "source": [
    "data_frame.count()"
   ]
  },
  {
   "cell_type": "code",
   "execution_count": 45,
   "metadata": {},
   "outputs": [
    {
     "data": {
      "text/plain": [
       "7"
      ]
     },
     "execution_count": 45,
     "metadata": {},
     "output_type": "execute_result"
    }
   ],
   "source": [
    "data_frame.rdd.getNumPartitions()"
   ]
  },
  {
   "cell_type": "code",
   "execution_count": 46,
   "metadata": {},
   "outputs": [
    {
     "name": "stdout",
     "output_type": "stream",
     "text": [
      "root\n",
      " |-- BibNum: string (nullable = true)\n",
      " |-- Title: string (nullable = true)\n",
      " |-- Author: string (nullable = true)\n",
      " |-- ISBN: string (nullable = true)\n",
      " |-- PublicationYear: string (nullable = true)\n",
      " |-- Publisher: string (nullable = true)\n",
      " |-- Subjects: string (nullable = true)\n",
      " |-- ItemType: string (nullable = true)\n",
      " |-- ItemCollection: string (nullable = true)\n",
      " |-- FloatingItem: string (nullable = true)\n",
      " |-- ItemLocation: string (nullable = true)\n",
      " |-- ReportDate: string (nullable = true)\n",
      " |-- ItemCount: string (nullable = true)\n",
      "\n"
     ]
    }
   ],
   "source": [
    "data_frame.printSchema()"
   ]
  },
  {
   "cell_type": "code",
   "execution_count": 37,
   "metadata": {},
   "outputs": [],
   "source": [
    "data_frame_new = spark_session.read\\\n",
    "    .option(\"header\", \"true\")\\\n",
    "    .csv('hdfs://192.168.1.153:9000/team25/libraryDataset/Checkouts_By_Title_Data_Lens_*.csv')"
   ]
  },
  {
   "cell_type": "code",
   "execution_count": 38,
   "metadata": {},
   "outputs": [
    {
     "data": {
      "text/plain": [
       "91980693"
      ]
     },
     "execution_count": 38,
     "metadata": {},
     "output_type": "execute_result"
    }
   ],
   "source": [
    "data_frame_new.count()"
   ]
  },
  {
   "cell_type": "code",
   "execution_count": 39,
   "metadata": {},
   "outputs": [
    {
     "name": "stdout",
     "output_type": "stream",
     "text": [
      "+---------+-------------+--------+----------+--------------------+--------------------+\n",
      "|BibNumber|  ItemBarcode|ItemType|Collection|          CallNumber|    CheckoutDateTime|\n",
      "+---------+-------------+--------+----------+--------------------+--------------------+\n",
      "|  1842225|0010035249209|    acbk|     namys|  MYSTERY ELKINS1999|05/23/2005 03:20:...|\n",
      "|  1928264|0010037335444|    jcbk|     ncpic|            E TABACK|12/14/2005 05:56:...|\n",
      "|  1982511|0010039952527|   jcvhs|   ncvidnf|VHS J796.2 KNOW_Y...|08/11/2005 01:52:...|\n",
      "|  2026467|0010040985615|    accd|      nacd|  CD 782.421642 Y71T|10/19/2005 07:47:...|\n",
      "|  2174698|0010047696215|    jcbk|     ncpic|           E KROSOCZ|12/29/2005 03:42:...|\n",
      "|  1602768|0010028318730|    jcbk|     ncpic|             E BLACK|10/08/2005 02:15:...|\n",
      "|  2285195|0010053424767|    accd|      cacd|   CD 782.42166 F19R|09/30/2005 10:16:...|\n",
      "|  2245955|0010048392665|    jcbk|      ncnf|  J949.73 Or77S 2004|12/05/2005 05:03:...|\n",
      "|   770918|0010044828100|    jcbk|     ncpic|              E HILL|07/22/2005 03:17:...|\n",
      "|  2288252|0010053488788|   jcdvd|     ncdvd|        DVD J HOW DO|05/05/2005 11:18:...|\n",
      "|  2129883|0010044896768|   acdvd|     nadvd|         DVD GOOD TH|06/08/2005 05:44:...|\n",
      "|  1100696|0010039424485|    acbk|      nypb|          FIC COONEY|05/27/2005 04:54:...|\n",
      "|  2285204|0010053420229|    accd|      nacd|CD 782.421649 B7391B|05/19/2005 05:30:...|\n",
      "|  2122199|0010042855428|   acvhs|     navid|         VHS CHEYENN|04/15/2005 01:56:...|\n",
      "|  2294522|0010053508502|    accd|      nacd|   CD 782.14 Sch958W|05/21/2005 12:03:...|\n",
      "|   770947|0010050406320|    jcbk|     ncpic|           E MCCLOSK|11/15/2005 01:53:...|\n",
      "|  1960408|0010040719808|    jcbk|     ncrdr|          ER HENNESS|05/13/2005 11:19:...|\n",
      "|  2108680|0010045525168|    acbk|      nasf|     SCI-FIC SALVATO|09/08/2005 03:03:...|\n",
      "|  2192136|0010047112015|    acbk|      caln|VIETNAM 895.9223 ...|10/12/2005 05:33:...|\n",
      "|  2100945|0010044013315|   acvhs|     navid|         VHS TRAININ|09/09/2005 01:24:...|\n",
      "+---------+-------------+--------+----------+--------------------+--------------------+\n",
      "only showing top 20 rows\n",
      "\n"
     ]
    }
   ],
   "source": [
    "data_frame_new.show()"
   ]
  },
  {
   "cell_type": "code",
   "execution_count": 40,
   "metadata": {},
   "outputs": [
    {
     "data": {
      "text/plain": [
       "52"
      ]
     },
     "execution_count": 40,
     "metadata": {},
     "output_type": "execute_result"
    }
   ],
   "source": [
    "data_frame_new.rdd.getNumPartitions()"
   ]
  },
  {
   "cell_type": "code",
   "execution_count": 41,
   "metadata": {},
   "outputs": [
    {
     "name": "stdout",
     "output_type": "stream",
     "text": [
      "root\n",
      " |-- BibNumber: string (nullable = true)\n",
      " |-- ItemBarcode: string (nullable = true)\n",
      " |-- ItemType: string (nullable = true)\n",
      " |-- Collection: string (nullable = true)\n",
      " |-- CallNumber: string (nullable = true)\n",
      " |-- CheckoutDateTime: string (nullable = true)\n",
      "\n"
     ]
    }
   ],
   "source": [
    "data_frame_new.printSchema()"
   ]
  },
  {
   "cell_type": "code",
   "execution_count": 47,
   "metadata": {},
   "outputs": [],
   "source": [
    "merged_data_frame = data_frame_new.join(data_frame, data_frame_new.BibNumber == data_frame.BibNum)"
   ]
  },
  {
   "cell_type": "code",
   "execution_count": 48,
   "metadata": {},
   "outputs": [
    {
     "name": "stdout",
     "output_type": "stream",
     "text": [
      "+---------+-------------+--------+----------+-------------+--------------------+------+--------------------+---------------+----------+---------------+-----------------+--------------------+--------+--------------+------------+------------+----------+---------+\n",
      "|BibNumber|  ItemBarcode|ItemType|Collection|   CallNumber|    CheckoutDateTime|BibNum|               Title|         Author|      ISBN|PublicationYear|        Publisher|            Subjects|ItemType|ItemCollection|FloatingItem|ItemLocation|ReportDate|ItemCount|\n",
      "+---------+-------------+--------+----------+-------------+--------------------+------+--------------------+---------------+----------+---------------+-----------------+--------------------+--------+--------------+------------+------------+----------+---------+\n",
      "|   100704|0000101463974|    acbk|      canf|917.9794 W85M|08/28/2005 02:12:...|100704|Men, mules, and m...|Wood, Robert L.|0916890430|          1976.|The Mountaineers,|ONeil Joseph Patr...|    acbk|          canf|          NA|         cen|09/01/2017|        3|\n",
      "|   100704|0000101463974|    acbk|      canf|917.9794 W85M|08/28/2005 02:12:...|100704|Men, mules, and m...|Wood, Robert L.|0916890430|          1976.|The Mountaineers,|ONeil Joseph Patr...|    acbk|          canf|          NA|         cen|10/01/2017|        3|\n",
      "|   100704|0000101463974|    acbk|      canf|917.9794 W85M|08/28/2005 02:12:...|100704|Men, mules, and m...|Wood, Robert L.|0916890430|          1976.|The Mountaineers,|ONeil Joseph Patr...|    arbk|         caref|          NA|         cen|09/01/2017|        1|\n",
      "|   100704|0000101463974|    acbk|      canf|917.9794 W85M|08/28/2005 02:12:...|100704|Men, mules, and m...|Wood, Robert L.|0916890430|          1976.|The Mountaineers,|ONeil Joseph Patr...|    arbk|         caref|          NA|         cen|10/01/2017|        1|\n",
      "|   100704|0010007144537|    acbk|      nanf|917.9794 W85M|06/08/2005 04:16:...|100704|Men, mules, and m...|Wood, Robert L.|0916890430|          1976.|The Mountaineers,|ONeil Joseph Patr...|    acbk|          canf|          NA|         cen|09/01/2017|        3|\n",
      "|   100704|0010007144537|    acbk|      nanf|917.9794 W85M|06/08/2005 04:16:...|100704|Men, mules, and m...|Wood, Robert L.|0916890430|          1976.|The Mountaineers,|ONeil Joseph Patr...|    acbk|          canf|          NA|         cen|10/01/2017|        3|\n",
      "|   100704|0010007144537|    acbk|      nanf|917.9794 W85M|06/08/2005 04:16:...|100704|Men, mules, and m...|Wood, Robert L.|0916890430|          1976.|The Mountaineers,|ONeil Joseph Patr...|    arbk|         caref|          NA|         cen|09/01/2017|        1|\n",
      "|   100704|0010007144537|    acbk|      nanf|917.9794 W85M|06/08/2005 04:16:...|100704|Men, mules, and m...|Wood, Robert L.|0916890430|          1976.|The Mountaineers,|ONeil Joseph Patr...|    arbk|         caref|          NA|         cen|10/01/2017|        1|\n",
      "|   100704|0010007144537|    acbk|      nanf|917.9794 W85M|06/22/2006 12:27:...|100704|Men, mules, and m...|Wood, Robert L.|0916890430|          1976.|The Mountaineers,|ONeil Joseph Patr...|    acbk|          canf|          NA|         cen|09/01/2017|        3|\n",
      "|   100704|0010007144537|    acbk|      nanf|917.9794 W85M|06/22/2006 12:27:...|100704|Men, mules, and m...|Wood, Robert L.|0916890430|          1976.|The Mountaineers,|ONeil Joseph Patr...|    acbk|          canf|          NA|         cen|10/01/2017|        3|\n",
      "|   100704|0010007144537|    acbk|      nanf|917.9794 W85M|06/22/2006 12:27:...|100704|Men, mules, and m...|Wood, Robert L.|0916890430|          1976.|The Mountaineers,|ONeil Joseph Patr...|    arbk|         caref|          NA|         cen|09/01/2017|        1|\n",
      "|   100704|0010007144537|    acbk|      nanf|917.9794 W85M|06/22/2006 12:27:...|100704|Men, mules, and m...|Wood, Robert L.|0916890430|          1976.|The Mountaineers,|ONeil Joseph Patr...|    arbk|         caref|          NA|         cen|10/01/2017|        1|\n",
      "|   100704|0010005551840|    acbk|      canf|917.9794 W85M|01/12/2007 12:13:...|100704|Men, mules, and m...|Wood, Robert L.|0916890430|          1976.|The Mountaineers,|ONeil Joseph Patr...|    acbk|          canf|          NA|         cen|09/01/2017|        3|\n",
      "|   100704|0010005551840|    acbk|      canf|917.9794 W85M|01/12/2007 12:13:...|100704|Men, mules, and m...|Wood, Robert L.|0916890430|          1976.|The Mountaineers,|ONeil Joseph Patr...|    acbk|          canf|          NA|         cen|10/01/2017|        3|\n",
      "|   100704|0010005551840|    acbk|      canf|917.9794 W85M|01/12/2007 12:13:...|100704|Men, mules, and m...|Wood, Robert L.|0916890430|          1976.|The Mountaineers,|ONeil Joseph Patr...|    arbk|         caref|          NA|         cen|09/01/2017|        1|\n",
      "|   100704|0010005551840|    acbk|      canf|917.9794 W85M|01/12/2007 12:13:...|100704|Men, mules, and m...|Wood, Robert L.|0916890430|          1976.|The Mountaineers,|ONeil Joseph Patr...|    arbk|         caref|          NA|         cen|10/01/2017|        1|\n",
      "|   100704|0010007144537|    acbk|      nanf|917.9794 W85M|03/28/2008 03:01:...|100704|Men, mules, and m...|Wood, Robert L.|0916890430|          1976.|The Mountaineers,|ONeil Joseph Patr...|    acbk|          canf|          NA|         cen|09/01/2017|        3|\n",
      "|   100704|0010007144537|    acbk|      nanf|917.9794 W85M|03/28/2008 03:01:...|100704|Men, mules, and m...|Wood, Robert L.|0916890430|          1976.|The Mountaineers,|ONeil Joseph Patr...|    acbk|          canf|          NA|         cen|10/01/2017|        3|\n",
      "|   100704|0010007144537|    acbk|      nanf|917.9794 W85M|03/28/2008 03:01:...|100704|Men, mules, and m...|Wood, Robert L.|0916890430|          1976.|The Mountaineers,|ONeil Joseph Patr...|    arbk|         caref|          NA|         cen|09/01/2017|        1|\n",
      "|   100704|0010007144537|    acbk|      nanf|917.9794 W85M|03/28/2008 03:01:...|100704|Men, mules, and m...|Wood, Robert L.|0916890430|          1976.|The Mountaineers,|ONeil Joseph Patr...|    arbk|         caref|          NA|         cen|10/01/2017|        1|\n",
      "+---------+-------------+--------+----------+-------------+--------------------+------+--------------------+---------------+----------+---------------+-----------------+--------------------+--------+--------------+------------+------------+----------+---------+\n",
      "only showing top 20 rows\n",
      "\n"
     ]
    }
   ],
   "source": [
    "merged_data_frame.show()"
   ]
  },
  {
   "cell_type": "code",
   "execution_count": 49,
   "metadata": {},
   "outputs": [
    {
     "data": {
      "text/plain": [
       "703511452"
      ]
     },
     "execution_count": 49,
     "metadata": {},
     "output_type": "execute_result"
    }
   ],
   "source": [
    "merged_data_frame.count()"
   ]
  },
  {
   "cell_type": "code",
   "execution_count": 51,
   "metadata": {},
   "outputs": [
    {
     "data": {
      "text/plain": [
       "200"
      ]
     },
     "execution_count": 51,
     "metadata": {},
     "output_type": "execute_result"
    }
   ],
   "source": [
    "merged_data_frame.rdd.getNumPartitions()"
   ]
  },
  {
   "cell_type": "code",
   "execution_count": 52,
   "metadata": {},
   "outputs": [
    {
     "name": "stdout",
     "output_type": "stream",
     "text": [
      "root\n",
      " |-- BibNumber: string (nullable = true)\n",
      " |-- ItemBarcode: string (nullable = true)\n",
      " |-- ItemType: string (nullable = true)\n",
      " |-- Collection: string (nullable = true)\n",
      " |-- CallNumber: string (nullable = true)\n",
      " |-- CheckoutDateTime: string (nullable = true)\n",
      " |-- BibNum: string (nullable = true)\n",
      " |-- Title: string (nullable = true)\n",
      " |-- Author: string (nullable = true)\n",
      " |-- ISBN: string (nullable = true)\n",
      " |-- PublicationYear: string (nullable = true)\n",
      " |-- Publisher: string (nullable = true)\n",
      " |-- Subjects: string (nullable = true)\n",
      " |-- ItemType: string (nullable = true)\n",
      " |-- ItemCollection: string (nullable = true)\n",
      " |-- FloatingItem: string (nullable = true)\n",
      " |-- ItemLocation: string (nullable = true)\n",
      " |-- ReportDate: string (nullable = true)\n",
      " |-- ItemCount: string (nullable = true)\n",
      "\n"
     ]
    }
   ],
   "source": [
    "merged_data_frame.printSchema()"
   ]
  },
  {
   "cell_type": "code",
   "execution_count": null,
   "metadata": {},
   "outputs": [],
   "source": []
  }
 ],
 "metadata": {
  "kernelspec": {
   "display_name": "Python 3",
   "language": "python",
   "name": "python3"
  },
  "language_info": {
   "codemirror_mode": {
    "name": "ipython",
    "version": 3
   },
   "file_extension": ".py",
   "mimetype": "text/x-python",
   "name": "python",
   "nbconvert_exporter": "python",
   "pygments_lexer": "ipython3",
   "version": "3.6.7"
  }
 },
 "nbformat": 4,
 "nbformat_minor": 2
}
