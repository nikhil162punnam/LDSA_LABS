{
 "cells": [
  {
   "cell_type": "code",
   "execution_count": 116,
   "metadata": {},
   "outputs": [],
   "source": [
    "from pyspark.sql import SparkSession\n",
    "from operator import add\n",
    "from IPython.core.display import display, HTML\n",
    "from pprint import pprint\n",
    "import pyspark\n",
    "from pyspark.sql.functions import udf, count, col \n",
    "from pyspark.sql.types import StringType\n",
    "from pyspark.sql.functions import to_timestamp, dayofyear\n",
    "import pyspark.sql.functions as f\n",
    "from pyspark.sql import Window"
   ]
  },
  {
   "cell_type": "code",
   "execution_count": 117,
   "metadata": {},
   "outputs": [],
   "source": [
    "spark_session = SparkSession\\\n",
    "        .builder\\\n",
    "        .master(\"spark://192.168.1.153:7077\") \\\n",
    "        .appName(\"hadoop_punnam_taskB\")\\\n",
    "        .config(\"spark.dynamicAllocation.enabled\", True)\\\n",
    "        .config(\"spark.shuffle.service.enabled\", True)\\\n",
    "        .config(\"spark.dynamicAllocation.executorIdleTimeout\",\"30s\")\\\n",
    "        .config(\"spark.executor.cores\",8)\\\n",
    "        .getOrCreate()\n",
    "\n",
    "# Old API (RDD)\n",
    "spark_context = spark_session.sparkContext"
   ]
  },
  {
   "cell_type": "code",
   "execution_count": 118,
   "metadata": {},
   "outputs": [],
   "source": [
    "# Load the csv from HDFS\n",
    "data_frame = spark_session.read\\\n",
    "    .option(\"header\", \"true\")\\\n",
    "    .csv('hdfs://192.168.1.153:9000/parking-citations.csv')\\\n",
    "    .cache()"
   ]
  },
  {
   "cell_type": "code",
   "execution_count": 119,
   "metadata": {},
   "outputs": [
    {
     "name": "stdout",
     "output_type": "stream",
     "text": [
      "+-------------+-------------------+----------+--------+-----------+--------------+-----------------+----+----+----------+-----+--------------------+-----+------+--------------+---------------------+-----------+---------+---------+\n",
      "|Ticket number|         Issue Date|Issue time|Meter Id|Marked Time|RP State Plate|Plate Expiry Date| VIN|Make|Body Style|Color|            Location|Route|Agency|Violation code|Violation Description|Fine amount| Latitude|Longitude|\n",
      "+-------------+-------------------+----------+--------+-----------+--------------+-----------------+----+----+----------+-----+--------------------+-----+------+--------------+---------------------+-----------+---------+---------+\n",
      "|   1103341116|2015-12-21T00:00:00|      1251|    null|       null|            CA|           200304|null|HOND|        PA|   GY|     13147 WELBY WAY|01521|     1|        4000A1|   NO EVIDENCE OF REG|         50|    99999|    99999|\n",
      "|   1103700150|2015-12-21T00:00:00|      1435|    null|       null|            CA|           201512|null| GMC|        VN|   WH|       525 S MAIN ST| 1C51|     1|        4000A1|   NO EVIDENCE OF REG|         50|    99999|    99999|\n",
      "|   1104803000|2015-12-21T00:00:00|      2055|    null|       null|            CA|           201503|null|NISS|        PA|   BK|       200 WORLD WAY|  2R2|     2|          8939|           WHITE CURB|         58|6439997.9|1802686.4|\n",
      "|   1104820732|2015-12-26T00:00:00|      1515|    null|       null|            CA|             null|null|ACUR|        PA|   WH|       100 WORLD WAY| 2F11|     2|           000|               17104h|       null|6440041.1|1802686.2|\n",
      "|   1105461453|2015-09-15T00:00:00|       115|    null|       null|            CA|           200316|null|CHEV|        PA|   BK|  GEORGIA ST/OLYMPIC|1FB70|     1|         8069A| NO STOPPING/STANDING|         93|    99999|    99999|\n",
      "|   1106226590|2015-09-15T00:00:00|        19|    null|       null|            CA|           201507|null|CHEV|        VN|   GY|  SAN PEDRO S/O BOYD|1A35W|     1|        4000A1|   NO EVIDENCE OF REG|         50|    99999|    99999|\n",
      "|   1106500452|2015-12-17T00:00:00|      1710|    null|       null|            CA|           201605|null|MAZD|        PA|   BL|     SUNSET/ALVARADO|00217|     1|          8070| PARK IN GRID LOCK ZN|        163|    99999|    99999|\n",
      "|   1106500463|2015-12-17T00:00:00|      1710|    null|       null|            CA|           201602|null|TOYO|        PA|   BK|     SUNSET/ALVARADO|00217|     1|          8070| PARK IN GRID LOCK ZN|        163|    99999|    99999|\n",
      "|   1106506402|2015-12-22T00:00:00|       945|    null|       null|            CA|           201605|null|CHEV|        PA|   BR|      721 S WESTLAKE| 2A75|     1|        8069AA|     NO STOP/STAND AM|         93|    99999|    99999|\n",
      "|   1106506413|2015-12-22T00:00:00|      1100|    null|       null|            CA|           201701|null|NISS|        PA|   SI|     1159 HUNTLEY DR| 2A75|     1|        8069AA|     NO STOP/STAND AM|         93|    99999|    99999|\n",
      "|   1106506424|2015-12-22T00:00:00|      1100|    null|       null|            CA|           201511|null|FORD|        TR|   WH|     1159 HUNTLEY DR| 2A75|     1|        8069AA|     NO STOP/STAND AM|         93|    99999|    99999|\n",
      "|   1106506435|2015-12-22T00:00:00|      1105|    null|       null|            CA|           201701|null|CHRY|        PA|   GO|     1159 HUNTLEY DR| 2A75|     1|        8069AA|     NO STOP/STAND AM|         93|    99999|    99999|\n",
      "|   1106506446|2015-12-22T00:00:00|      1110|    null|       null|            CA|           201511|null| BMW|        PA|   BK|      1200 W MIRAMAR| 2A75|     1|        4000A1|   NO EVIDENCE OF REG|         50|    99999|    99999|\n",
      "|   1106549754|2015-12-15T00:00:00|       825|    null|       null|            CA|           201607|null|PTRB|        TR|   BK|           4TH/STATE| CM96|     1|         8069A| NO STOPPING/STANDING|         93|    99999|    99999|\n",
      "|   1107179581|2015-12-27T00:00:00|      1055|    null|       null|            CA|           201605|null|TOYO|        PA|   BK|3100 N HOLLYRIDGE DR| null|    54|         8058L|         PREF PARKING|         68|    99999|    99999|\n",
      "|   1107179592|2015-12-27T00:00:00|      1200|    null|       null|            CA|           201602|null|MBNZ|        PA|   BK|   3115 N BERENDO DR| null|    54|         8058L|         PREF PARKING|         68|    99999|    99999|\n",
      "|   1107179603|2015-12-27T00:00:00|      1400|    null|       null|            CA|           201611|null|NISS|        PA|   WH| 3100 N BEACHWOOD DR| null|    54|         8058L|         PREF PARKING|         68|    99999|    99999|\n",
      "|   1107539823|2015-09-16T00:00:00|      2120|    null|       null|            CA|           201502|null|NISS|        PA| null|      BLAINE/11TH PL|1FB95|     1|        4000A1|   NO EVIDENCE OF REG|         50|    99999|    99999|\n",
      "|   1107539834|2015-09-16T00:00:00|      1045|    null|       null|            CA|             null|null|CHEV|        PA|   BK|  1246 S FIGUEROA ST| 1L20|     1|        8069AP|     NO STOP/STAND PM|         93|    99999|    99999|\n",
      "|   1107780811|2015-12-22T00:00:00|      1102|    null|       null|            CA|           201606|null|HOND|        PA|   BK|       PLATA/RAMPART|  2A1|     1|         8069B|           NO PARKING|         73|    99999|    99999|\n",
      "+-------------+-------------------+----------+--------+-----------+--------------+-----------------+----+----+----------+-----+--------------------+-----+------+--------------+---------------------+-----------+---------+---------+\n",
      "only showing top 20 rows\n",
      "\n"
     ]
    }
   ],
   "source": [
    "# Verify that the data has loaded has correctly\n",
    "data_frame.show()"
   ]
  },
  {
   "cell_type": "code",
   "execution_count": 120,
   "metadata": {},
   "outputs": [
    {
     "name": "stdout",
     "output_type": "stream",
     "text": [
      "root\n",
      " |-- Ticket number: string (nullable = true)\n",
      " |-- Issue Date: string (nullable = true)\n",
      " |-- Issue time: string (nullable = true)\n",
      " |-- Meter Id: string (nullable = true)\n",
      " |-- Marked Time: string (nullable = true)\n",
      " |-- RP State Plate: string (nullable = true)\n",
      " |-- Plate Expiry Date: string (nullable = true)\n",
      " |-- VIN: string (nullable = true)\n",
      " |-- Make: string (nullable = true)\n",
      " |-- Body Style: string (nullable = true)\n",
      " |-- Color: string (nullable = true)\n",
      " |-- Location: string (nullable = true)\n",
      " |-- Route: string (nullable = true)\n",
      " |-- Agency: string (nullable = true)\n",
      " |-- Violation code: string (nullable = true)\n",
      " |-- Violation Description: string (nullable = true)\n",
      " |-- Fine amount: string (nullable = true)\n",
      " |-- Latitude: string (nullable = true)\n",
      " |-- Longitude: string (nullable = true)\n",
      "\n"
     ]
    }
   ],
   "source": [
    "# Showing the schema of the dataframe\n",
    "data_frame.printSchema()"
   ]
  },
  {
   "cell_type": "code",
   "execution_count": 121,
   "metadata": {},
   "outputs": [
    {
     "data": {
      "text/plain": [
       "9257460"
      ]
     },
     "execution_count": 121,
     "metadata": {},
     "output_type": "execute_result"
    }
   ],
   "source": [
    "# Count the no. of rows\n",
    "data_frame.count()"
   ]
  },
  {
   "cell_type": "code",
   "execution_count": 122,
   "metadata": {},
   "outputs": [
    {
     "data": {
      "text/plain": [
       "10"
      ]
     },
     "execution_count": 122,
     "metadata": {},
     "output_type": "execute_result"
    }
   ],
   "source": [
    "# No. of Partitions in RDD\n",
    "data_frame.rdd.getNumPartitions()"
   ]
  },
  {
   "cell_type": "code",
   "execution_count": 123,
   "metadata": {},
   "outputs": [],
   "source": [
    "# Dropping the columns\n",
    "new_df = data_frame.drop('VIN','Latitude','Longitude')"
   ]
  },
  {
   "cell_type": "code",
   "execution_count": 124,
   "metadata": {},
   "outputs": [
    {
     "name": "stdout",
     "output_type": "stream",
     "text": [
      "root\n",
      " |-- Ticket number: string (nullable = true)\n",
      " |-- Issue Date: string (nullable = true)\n",
      " |-- Issue time: string (nullable = true)\n",
      " |-- Meter Id: string (nullable = true)\n",
      " |-- Marked Time: string (nullable = true)\n",
      " |-- RP State Plate: string (nullable = true)\n",
      " |-- Plate Expiry Date: string (nullable = true)\n",
      " |-- Make: string (nullable = true)\n",
      " |-- Body Style: string (nullable = true)\n",
      " |-- Color: string (nullable = true)\n",
      " |-- Location: string (nullable = true)\n",
      " |-- Route: string (nullable = true)\n",
      " |-- Agency: string (nullable = true)\n",
      " |-- Violation code: string (nullable = true)\n",
      " |-- Violation Description: string (nullable = true)\n",
      " |-- Fine amount: string (nullable = true)\n",
      "\n"
     ]
    }
   ],
   "source": [
    "# Printing the new schema\n",
    "new_df.printSchema()"
   ]
  },
  {
   "cell_type": "code",
   "execution_count": 125,
   "metadata": {},
   "outputs": [],
   "source": [
    "# Casting the string type fine values to float\n",
    "temp_df = new_df.withColumn('NewFine',new_df['Fine amount'].cast(\"float\"))"
   ]
  },
  {
   "cell_type": "code",
   "execution_count": 126,
   "metadata": {},
   "outputs": [
    {
     "name": "stdout",
     "output_type": "stream",
     "text": [
      "root\n",
      " |-- Ticket number: string (nullable = true)\n",
      " |-- Issue Date: string (nullable = true)\n",
      " |-- Issue time: string (nullable = true)\n",
      " |-- Meter Id: string (nullable = true)\n",
      " |-- Marked Time: string (nullable = true)\n",
      " |-- RP State Plate: string (nullable = true)\n",
      " |-- Plate Expiry Date: string (nullable = true)\n",
      " |-- Make: string (nullable = true)\n",
      " |-- Body Style: string (nullable = true)\n",
      " |-- Color: string (nullable = true)\n",
      " |-- Location: string (nullable = true)\n",
      " |-- Route: string (nullable = true)\n",
      " |-- Agency: string (nullable = true)\n",
      " |-- Violation code: string (nullable = true)\n",
      " |-- Violation Description: string (nullable = true)\n",
      " |-- Fine amount: string (nullable = true)\n",
      " |-- NewFine: float (nullable = true)\n",
      "\n"
     ]
    }
   ],
   "source": [
    "# Checking the new type\n",
    "temp_df.printSchema()"
   ]
  },
  {
   "cell_type": "code",
   "execution_count": 127,
   "metadata": {},
   "outputs": [
    {
     "data": {
      "text/plain": [
       "[Row(Ticket number='1109907271', Issue Date='2015-03-09T00:00:00', Issue time='610', Meter Id=None, Marked Time=None, RP State Plate='CA', Plate Expiry Date='201510', Make='FORD', Body Style='PA', Color='RE', Location='1201 E 35TH ST', Route='13E3', Agency='1', Violation code='558', Violation Description='8755**', Fine amount='505', NewFine=505.0),\n",
       " Row(Ticket number='1109908925', Issue Date='2015-03-06T00:00:00', Issue time='2200', Meter Id=None, Marked Time=None, RP State Plate='CA', Plate Expiry Date='201510', Make='FORD', Body Style='PA', Color='RE', Location='1203 E 35TH ST', Route='13E3', Agency='1', Violation code='558', Violation Description='8755**', Fine amount='505', NewFine=505.0),\n",
       " Row(Ticket number='1109909205', Issue Date='2014-12-24T00:00:00', Issue time='110', Meter Id=None, Marked Time=None, RP State Plate='CA', Plate Expiry Date='201410', Make='HOND', Body Style=None, Color='BK', Location='6500 S AVALON BLVD', Route='13E3', Agency='1', Violation code='558', Violation Description='8755**', Fine amount='505', NewFine=505.0),\n",
       " Row(Ticket number='1109908995', Issue Date='2015-03-07T00:00:00', Issue time='1220', Meter Id=None, Marked Time=None, RP State Plate='CA', Plate Expiry Date='201510', Make='FORD', Body Style='PA', Color='MA', Location='1203 E 35TH ST', Route='13E3', Agency='1', Violation code='558', Violation Description='8755**', Fine amount='505', NewFine=505.0),\n",
       " Row(Ticket number='1109909220', Issue Date='2014-12-24T00:00:00', Issue time='125', Meter Id=None, Marked Time=None, RP State Plate='CA', Plate Expiry Date='201507', Make='NISS', Body Style='PA', Color='BK', Location='617 E GAGE AV', Route='13E3', Agency='1', Violation code='558', Violation Description='8755**', Fine amount='505', NewFine=505.0),\n",
       " Row(Ticket number='1112999020', Issue Date='2016-02-27T00:00:00', Issue time='335', Meter Id=None, Marked Time=None, RP State Plate='CA', Plate Expiry Date='201605', Make='CHRY', Body Style='PA', Color='WH', Location='6200 S AVALON', Route='13A75', Agency='1', Violation code='558', Violation Description='8755**', Fine amount='505', NewFine=505.0),\n",
       " Row(Ticket number='1115842781', Issue Date='2016-06-05T00:00:00', Issue time='1924', Meter Id=None, Marked Time=None, RP State Plate='CA', Plate Expiry Date='201605', Make='INFI', Body Style='PA', Color='BK', Location='6TH ST/WALL', Route='1FB22', Agency='1', Violation code='570', Violation Description='2251157B', Fine amount='363', NewFine=363.0),\n",
       " Row(Ticket number='4284047106', Issue Date='2016-06-13T00:00:00', Issue time='1144', Meter Id=None, Marked Time=None, RP State Plate='CA', Plate Expiry Date='201604', Make='LEXS', Body Style='PA', Color='SL', Location='7111 MELROSE AVE', Route='00400', Agency='54', Violation code='22507.8B', Violation Description='DISABLED PARKING/OBS', Fine amount='363', NewFine=363.0),\n",
       " Row(Ticket number='4284577426', Issue Date='2016-06-13T00:00:00', Issue time='1246', Meter Id=None, Marked Time=None, RP State Plate='CA', Plate Expiry Date='201608', Make='MAZD', Body Style='PA', Color='WT', Location='8055 3RD ST W', Route='00474', Agency='54', Violation code='22507.8C', Violation Description='DISABLED PARKING/CRO', Fine amount='363', NewFine=363.0),\n",
       " Row(Ticket number='1115843503', Issue Date='2016-06-01T00:00:00', Issue time='2320', Meter Id='2742', Marked Time=None, RP State Plate='AZ', Plate Expiry Date='201610', Make='JEEP', Body Style='PA', Color='WH', Location='737 S SAN PEDRO ST', Route='1FB22', Agency='1', Violation code='569', Violation Description='2251157A', Fine amount='363', NewFine=363.0)]"
      ]
     },
     "execution_count": 127,
     "metadata": {},
     "output_type": "execute_result"
    }
   ],
   "source": [
    "# Taking the top 10 tickets by their fine values\n",
    "temp_df.orderBy('NewFine', ascending = False).take(10)"
   ]
  },
  {
   "cell_type": "code",
   "execution_count": 128,
   "metadata": {},
   "outputs": [
    {
     "data": {
      "text/plain": [
       "6"
      ]
     },
     "execution_count": 128,
     "metadata": {},
     "output_type": "execute_result"
    }
   ],
   "source": [
    "# Grouping tickets whose fine value is the maximum\n",
    "temp_df.where(f.col('NewFine') == temp_df.orderBy('NewFine', ascending = False).take(1)[0]['NewFine']).count()"
   ]
  },
  {
   "cell_type": "code",
   "execution_count": 129,
   "metadata": {},
   "outputs": [],
   "source": [
    "# Grouping the make of the cars and counting each group\n",
    "cnts = temp_df.groupBy(\"Make\").agg(count(\"*\").alias(\"cnt\"))\n",
    "# Cumulating the count of each group\n",
    "maxs = cnts.groupBy(\"Make\").agg(f.max(\"cnt\").alias(\"mx\"))"
   ]
  },
  {
   "cell_type": "code",
   "execution_count": 130,
   "metadata": {},
   "outputs": [
    {
     "data": {
      "text/plain": [
       "[Row(Make='TOYT', mx=1531949),\n",
       " Row(Make='HOND', mx=1043276),\n",
       " Row(Make='FORD', mx=807498),\n",
       " Row(Make='NISS', mx=662097),\n",
       " Row(Make='CHEV', mx=631413),\n",
       " Row(Make='BMW', mx=422916),\n",
       " Row(Make='MERZ', mx=376830),\n",
       " Row(Make='VOLK', mx=316002),\n",
       " Row(Make='HYUN', mx=285286),\n",
       " Row(Make='DODG', mx=271590),\n",
       " Row(Make='LEXS', mx=263269),\n",
       " Row(Make='KIA', mx=217795),\n",
       " Row(Make='JEEP', mx=214965),\n",
       " Row(Make='AUDI', mx=179718),\n",
       " Row(Make='MAZD', mx=169811),\n",
       " Row(Make='OTHR', mx=154376),\n",
       " Row(Make='GMC', mx=132788),\n",
       " Row(Make='INFI', mx=120340),\n",
       " Row(Make='CHRY', mx=120317),\n",
       " Row(Make='ACUR', mx=111265)]"
      ]
     },
     "execution_count": 130,
     "metadata": {},
     "output_type": "execute_result"
    }
   ],
   "source": [
    "# Displaying the top 20 make of the cars\n",
    "maxs.orderBy('mx', ascending = False).take(20)"
   ]
  },
  {
   "cell_type": "code",
   "execution_count": 131,
   "metadata": {},
   "outputs": [],
   "source": [
    "COLORS = {\n",
    "'AL':'Aluminum', 'AM':'Amber', 'BG':'Beige', 'BK':'Black',\n",
    "'BL':'Blue', 'BN':'Brown', 'BR':'Brown', 'BZ':'Bronze',\n",
    "'CH':'Charcoal', 'DK':'Dark', 'GD':'Gold', 'GO':'Gold',\n",
    "'GN':'Green', 'GY':'Gray', 'GT':'Granite', 'IV':'Ivory',\n",
    "'LT':'Light', 'OL':'Olive', 'OR':'Orange', 'MR':'Maroon',\n",
    "'PK':'Pink', 'RD':'Red', 'RE':'Red', 'SI':'Silver', 'SL':'Silver',\n",
    "'SM':'Smoke', 'TN':'Tan', 'VT':'Violet', 'WT':'White',\n",
    "'WH':'White', 'YL':'Yellow', 'YE':'Yellow', 'UN':'Unknown'\n",
    "}"
   ]
  },
  {
   "cell_type": "code",
   "execution_count": 132,
   "metadata": {},
   "outputs": [
    {
     "name": "stderr",
     "output_type": "stream",
     "text": [
      "/home/ubuntu/.local/lib/python3.6/site-packages/pyspark/sql/dataframe.py:1793: UserWarning: to_replace is a dict and value is not None. value will be ignored.\n",
      "  warnings.warn(\"to_replace is a dict and value is not None. value will be ignored.\")\n"
     ]
    }
   ],
   "source": [
    "# Replacing the color shortcuts to the full name\n",
    "color_df = temp_df.na.replace(COLORS, 1, 'Color')"
   ]
  },
  {
   "cell_type": "code",
   "execution_count": 133,
   "metadata": {},
   "outputs": [
    {
     "name": "stdout",
     "output_type": "stream",
     "text": [
      "+-------------+-------------------+----------+--------+-----------+--------------+-----------------+----+----------+-----+------------------+-----+------+--------------+---------------------+-----------+-------+\n",
      "|Ticket number|         Issue Date|Issue time|Meter Id|Marked Time|RP State Plate|Plate Expiry Date|Make|Body Style|Color|          Location|Route|Agency|Violation code|Violation Description|Fine amount|NewFine|\n",
      "+-------------+-------------------+----------+--------+-----------+--------------+-----------------+----+----------+-----+------------------+-----+------+--------------+---------------------+-----------+-------+\n",
      "|   1103341116|2015-12-21T00:00:00|      1251|    null|       null|            CA|           200304|HOND|        PA| Gray|   13147 WELBY WAY|01521|     1|        4000A1|   NO EVIDENCE OF REG|         50|   50.0|\n",
      "|   1103700150|2015-12-21T00:00:00|      1435|    null|       null|            CA|           201512| GMC|        VN|White|     525 S MAIN ST| 1C51|     1|        4000A1|   NO EVIDENCE OF REG|         50|   50.0|\n",
      "|   1104803000|2015-12-21T00:00:00|      2055|    null|       null|            CA|           201503|NISS|        PA|Black|     200 WORLD WAY|  2R2|     2|          8939|           WHITE CURB|         58|   58.0|\n",
      "|   1104820732|2015-12-26T00:00:00|      1515|    null|       null|            CA|             null|ACUR|        PA|White|     100 WORLD WAY| 2F11|     2|           000|               17104h|       null|   null|\n",
      "|   1105461453|2015-09-15T00:00:00|       115|    null|       null|            CA|           200316|CHEV|        PA|Black|GEORGIA ST/OLYMPIC|1FB70|     1|         8069A| NO STOPPING/STANDING|         93|   93.0|\n",
      "+-------------+-------------------+----------+--------+-----------+--------------+-----------------+----+----------+-----+------------------+-----+------+--------------+---------------------+-----------+-------+\n",
      "only showing top 5 rows\n",
      "\n"
     ]
    }
   ],
   "source": [
    "# Displaying the results\n",
    "color_df.show(5)"
   ]
  },
  {
   "cell_type": "code",
   "execution_count": 134,
   "metadata": {},
   "outputs": [
    {
     "data": {
      "text/plain": [
       "[Row(Ticket number='1109907271', Issue Date='2015-03-09T00:00:00', Issue time='610', Meter Id=None, Marked Time=None, RP State Plate='CA', Plate Expiry Date='201510', Make='FORD', Body Style='PA', Color='Red', Location='1201 E 35TH ST', Route='13E3', Agency='1', Violation code='558', Violation Description='8755**', Fine amount='505', NewFine=505.0),\n",
       " Row(Ticket number='1109908925', Issue Date='2015-03-06T00:00:00', Issue time='2200', Meter Id=None, Marked Time=None, RP State Plate='CA', Plate Expiry Date='201510', Make='FORD', Body Style='PA', Color='Red', Location='1203 E 35TH ST', Route='13E3', Agency='1', Violation code='558', Violation Description='8755**', Fine amount='505', NewFine=505.0),\n",
       " Row(Ticket number='1109909205', Issue Date='2014-12-24T00:00:00', Issue time='110', Meter Id=None, Marked Time=None, RP State Plate='CA', Plate Expiry Date='201410', Make='HOND', Body Style=None, Color='Black', Location='6500 S AVALON BLVD', Route='13E3', Agency='1', Violation code='558', Violation Description='8755**', Fine amount='505', NewFine=505.0),\n",
       " Row(Ticket number='1109908995', Issue Date='2015-03-07T00:00:00', Issue time='1220', Meter Id=None, Marked Time=None, RP State Plate='CA', Plate Expiry Date='201510', Make='FORD', Body Style='PA', Color='MA', Location='1203 E 35TH ST', Route='13E3', Agency='1', Violation code='558', Violation Description='8755**', Fine amount='505', NewFine=505.0),\n",
       " Row(Ticket number='1109909220', Issue Date='2014-12-24T00:00:00', Issue time='125', Meter Id=None, Marked Time=None, RP State Plate='CA', Plate Expiry Date='201507', Make='NISS', Body Style='PA', Color='Black', Location='617 E GAGE AV', Route='13E3', Agency='1', Violation code='558', Violation Description='8755**', Fine amount='505', NewFine=505.0),\n",
       " Row(Ticket number='1112999020', Issue Date='2016-02-27T00:00:00', Issue time='335', Meter Id=None, Marked Time=None, RP State Plate='CA', Plate Expiry Date='201605', Make='CHRY', Body Style='PA', Color='White', Location='6200 S AVALON', Route='13A75', Agency='1', Violation code='558', Violation Description='8755**', Fine amount='505', NewFine=505.0),\n",
       " Row(Ticket number='1115842781', Issue Date='2016-06-05T00:00:00', Issue time='1924', Meter Id=None, Marked Time=None, RP State Plate='CA', Plate Expiry Date='201605', Make='INFI', Body Style='PA', Color='Black', Location='6TH ST/WALL', Route='1FB22', Agency='1', Violation code='570', Violation Description='2251157B', Fine amount='363', NewFine=363.0),\n",
       " Row(Ticket number='4284047106', Issue Date='2016-06-13T00:00:00', Issue time='1144', Meter Id=None, Marked Time=None, RP State Plate='CA', Plate Expiry Date='201604', Make='LEXS', Body Style='PA', Color='Silver', Location='7111 MELROSE AVE', Route='00400', Agency='54', Violation code='22507.8B', Violation Description='DISABLED PARKING/OBS', Fine amount='363', NewFine=363.0),\n",
       " Row(Ticket number='4284577426', Issue Date='2016-06-13T00:00:00', Issue time='1246', Meter Id=None, Marked Time=None, RP State Plate='CA', Plate Expiry Date='201608', Make='MAZD', Body Style='PA', Color='White', Location='8055 3RD ST W', Route='00474', Agency='54', Violation code='22507.8C', Violation Description='DISABLED PARKING/CRO', Fine amount='363', NewFine=363.0),\n",
       " Row(Ticket number='1115843503', Issue Date='2016-06-01T00:00:00', Issue time='2320', Meter Id='2742', Marked Time=None, RP State Plate='AZ', Plate Expiry Date='201610', Make='JEEP', Body Style='PA', Color='White', Location='737 S SAN PEDRO ST', Route='1FB22', Agency='1', Violation code='569', Violation Description='2251157A', Fine amount='363', NewFine=363.0)]"
      ]
     },
     "execution_count": 134,
     "metadata": {},
     "output_type": "execute_result"
    }
   ],
   "source": [
    "# Seeing whether tickets whose color isn't a key in our dictionary changes or not\n",
    "# See 2nd Ticket\n",
    "color_df.orderBy('NewFine', ascending = False).take(10)"
   ]
  },
  {
   "cell_type": "code",
   "execution_count": 135,
   "metadata": {},
   "outputs": [],
   "source": [
    "# Tickets whose make is the maximum make i.e TOYT\n",
    "new_color_df = color_df.where(f.col('Make') == maxs.orderBy('mx', ascending = False).take(1)[0]['Make'])"
   ]
  },
  {
   "cell_type": "code",
   "execution_count": 136,
   "metadata": {},
   "outputs": [],
   "source": [
    "# Grouping the tickets by their color and counting\n",
    "cnts_color = new_color_df.groupBy(\"Color\").agg(count(\"*\").alias(\"cnt\"))\n",
    "# Cumulating the count of each color \n",
    "maxs_color = cnts_color.groupBy(\"Color\").agg(f.max(\"cnt\").alias(\"mx\"))"
   ]
  },
  {
   "cell_type": "code",
   "execution_count": 137,
   "metadata": {},
   "outputs": [
    {
     "data": {
      "text/plain": [
       "[Row(Color='Gray', mx=346822),\n",
       " Row(Color='White', mx=304620),\n",
       " Row(Color='Black', mx=252199),\n",
       " Row(Color='Silver', mx=248685),\n",
       " Row(Color='Blue', mx=128051),\n",
       " Row(Color='Red', mx=84175),\n",
       " Row(Color='Green', mx=57627),\n",
       " Row(Color='Gold', mx=30154),\n",
       " Row(Color='Maroon', mx=19882),\n",
       " Row(Color='Tan', mx=17006)]"
      ]
     },
     "execution_count": 137,
     "metadata": {},
     "output_type": "execute_result"
    }
   ],
   "source": [
    "# Top color in the TOYT make group\n",
    "maxs_color.orderBy('mx', ascending = False).take(10)"
   ]
  },
  {
   "cell_type": "code",
   "execution_count": null,
   "metadata": {},
   "outputs": [],
   "source": []
  }
 ],
 "metadata": {
  "kernelspec": {
   "display_name": "Python 3",
   "language": "python",
   "name": "python3"
  },
  "language_info": {
   "codemirror_mode": {
    "name": "ipython",
    "version": 3
   },
   "file_extension": ".py",
   "mimetype": "text/x-python",
   "name": "python",
   "nbconvert_exporter": "python",
   "pygments_lexer": "ipython3",
   "version": "3.6.7"
  }
 },
 "nbformat": 4,
 "nbformat_minor": 2
}
