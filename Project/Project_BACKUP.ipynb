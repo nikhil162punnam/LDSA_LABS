{
 "cells": [
  {
   "cell_type": "code",
   "execution_count": 1,
   "metadata": {},
   "outputs": [],
   "source": [
    "from pyspark.sql import SparkSession\n",
    "from operator import add"
   ]
  },
  {
   "cell_type": "code",
   "execution_count": 2,
   "metadata": {},
   "outputs": [],
   "source": [
    "spark_session = SparkSession\\\n",
    "        .builder\\\n",
    "        .master(\"spark://host-192-168-1-37-ldsa:7077\") \\\n",
    "        .appName(\"project_team25_thursday\")\\\n",
    "        .config(\"spark.dynamicAllocation.enabled\", True)\\\n",
    "        .config(\"spark.shuffle.service.enabled\", True)\\\n",
    "        .config(\"spark.dynamicAllocation.executorIdleTimeout\",\"30s\")\\\n",
    "        .config(\"spark.executor.cores\",2)\\\n",
    "        .getOrCreate()\n",
    "\n",
    "# Old API (RDD)\n",
    "spark_context = spark_session.sparkContext"
   ]
  },
  {
   "cell_type": "code",
   "execution_count": 3,
   "metadata": {},
   "outputs": [],
   "source": [
    "# Load the csv from HDFS\n",
    "data_frame = spark_session.read\\\n",
    "    .option(\"header\", \"true\")\\\n",
    "    .csv('hdfs://192.168.1.153:9000/team25/libraryDataset/Library_Collection_Inventory.csv')"
   ]
  },
  {
   "cell_type": "code",
   "execution_count": 29,
   "metadata": {},
   "outputs": [
    {
     "name": "stdout",
     "output_type": "stream",
     "text": [
      "+-------+--------------------+--------------------+--------------------+---------------+--------------------+--------------------+--------+--------------+------------+------------+----------+---------+\n",
      "| BibNum|               Title|              Author|                ISBN|PublicationYear|           Publisher|            Subjects|ItemType|ItemCollection|FloatingItem|ItemLocation|ReportDate|ItemCount|\n",
      "+-------+--------------------+--------------------+--------------------+---------------+--------------------+--------------------+--------+--------------+------------+------------+----------+---------+\n",
      "|3011076|A tale of two fri...|       O'Ryan, Ellie|1481425730, 14814...|          2014.|    Simon Spotlight,|Musicians Fiction...|    jcbk|         ncrdr|    Floating|         qna|09/01/2017|        1|\n",
      "|2248846|Naruto. Vol. 1, U...|Kishimoto, Masash...|          1569319006|   2003, c1999.|                Viz,|Ninja Japan Comic...|    acbk|       nycomic|          NA|         lcy|09/01/2017|        1|\n",
      "|3209270|Peace, love & Wi-...| Scott, Jerry, 1955-|144945867X, 97814...|          2014.|Andrews McMeel Pu...|Duncan Jeremy Fic...|    acbk|       nycomic|          NA|         bea|09/01/2017|        1|\n",
      "|1907265|The Paris pilgrim...|Carlile, Clancy, ...|          0786706155|         c1999.|     Carroll & Graf,|Hemingway Ernest ...|    acbk|         cafic|          NA|         cen|09/01/2017|        1|\n",
      "|1644616|Erotic by nature ...|                null|          094020813X|   1991, c1988.|Red Alder Books/D...|Erotic literature...|    acbk|          canf|          NA|         cen|09/01/2017|        1|\n",
      "|1736505|Children of Cambo...|                null|0300068395, 03000...|         c1997.|Yale University P...|Political atrocit...|    acbk|          canf|          NA|         cen|09/01/2017|        1|\n",
      "|1749492|Anti-Zionism : an...|                null|          091559773X|         c1989.|        Amana Books,|Berger Elmer 1908...|    acbk|          canf|          NA|         cen|09/01/2017|        1|\n",
      "|3270562|Hard-hearted High...|       London, Julia|0373789998, 03738...|         [2017]|                HQN,|Man woman relatio...|    acbk|         nanew|          NA|         lcy|09/01/2017|        1|\n",
      "|3264577|The Sandcastle Em...|        Olson, Kayla|0062484877, 97800...|          2017.|         HarperTeen,|Survival Juvenile...|    acbk|         nynew|          NA|         nga|09/01/2017|        1|\n",
      "|3236819|Doctor Who. The r...|                null|                null|         [2017]|      BBC Worldwide,|Doctor Fictitious...|   acdvd|         nadvd|    Floating|         wts|09/01/2017|        2|\n",
      "|3018388|Burnt toast makes...|     Flinn, Kathleen|067001544X, 97806...|          2014.|             Viking,|Cooking American ...|    acbk|          nanf|          NA|         mon|09/01/2017|        1|\n",
      "|3122831|Barbie & her sist...|                null|                null|         [2015]|Universal Studios...|Barbie Fictitious...|   jcdvd|         ncdvd|    Floating|         rbe|09/01/2017|        1|\n",
      "|2519097|Stop bullying now...|                null|                null|        [2006?]|U.S. Dept. of Hea...|Bullying in schoo...|   acdvd|       cadvdnf|          NA|         cen|09/01/2017|        1|\n",
      "|3274605|The only child : ...|       Pyper, Andrew|1476755213, 97814...|          2017.|   Simon & Schuster,|Forensic psychiat...|    acbk|         cafic|          NA|         cen|09/01/2017|        1|\n",
      "|3265336|The Jolley-Rogers...|       Duddle, Jonny|0763692921, 97807...|          2017.|Templar Books, an...|Pirates Juvenile ...|    jcbk|          ncef|          NA|         net|09/01/2017|        1|\n",
      "|3154492|Duke in his own w...|                null|1942556195, 97819...|         c2015.|    Topix Media Lab,|Wayne John 1907 1...|    acbk|          nanf|          NA|         bro|09/01/2017|        1|\n",
      "|3167678|The Alchemists' C...|Masson, Cynthea, ...|1770412719, 97817...|          2016.|          ECW Press,|Alchemy Fiction, ...|    acbk|         nafic|          NA|         glk|09/01/2017|        1|\n",
      "|3137398|Parrots of the wi...|Toft, Catherine A...|0520239253, 97805...|         [2015]|University of Cal...|Parrots, Parrots ...|    acbk|          nanf|          NA|         gwd|09/01/2017|        1|\n",
      "|3165211|The aromatherapy ...|      Keville, Kathi|1604695498, 97816...|          2016.|       Timber Press,|Fragrant gardens,...|    acbk|          nanf|          NA|         net|09/01/2017|        1|\n",
      "|2483968|The walking dead....|     Kirkman, Robert|1582408831, 97815...|         c2008.|        Image Comics|Graphic novels, H...|    acbk|       nacomic|          NA|         bal|09/01/2017|        1|\n",
      "+-------+--------------------+--------------------+--------------------+---------------+--------------------+--------------------+--------+--------------+------------+------------+----------+---------+\n",
      "only showing top 20 rows\n",
      "\n"
     ]
    }
   ],
   "source": [
    "data_frame.show()"
   ]
  },
  {
   "cell_type": "code",
   "execution_count": 30,
   "metadata": {},
   "outputs": [
    {
     "data": {
      "text/plain": [
       "2687149"
      ]
     },
     "execution_count": 30,
     "metadata": {},
     "output_type": "execute_result"
    }
   ],
   "source": [
    "data_frame.count()"
   ]
  },
  {
   "cell_type": "code",
   "execution_count": 32,
   "metadata": {},
   "outputs": [
    {
     "name": "stdout",
     "output_type": "stream",
     "text": [
      "root\n",
      " |-- BibNum: string (nullable = true)\n",
      " |-- Title: string (nullable = true)\n",
      " |-- Author: string (nullable = true)\n",
      " |-- ISBN: string (nullable = true)\n",
      " |-- PublicationYear: string (nullable = true)\n",
      " |-- Publisher: string (nullable = true)\n",
      " |-- Subjects: string (nullable = true)\n",
      " |-- ItemType: string (nullable = true)\n",
      " |-- ItemCollection: string (nullable = true)\n",
      " |-- FloatingItem: string (nullable = true)\n",
      " |-- ItemLocation: string (nullable = true)\n",
      " |-- ReportDate: string (nullable = true)\n",
      " |-- ItemCount: string (nullable = true)\n",
      "\n"
     ]
    }
   ],
   "source": [
    "data_frame.printSchema()"
   ]
  },
  {
   "cell_type": "code",
   "execution_count": 31,
   "metadata": {},
   "outputs": [],
   "source": [
    "req_df = data_frame.select('BibNum','Title','Author','PublicationYear','Publisher','Subjects').distinct()"
   ]
  },
  {
   "cell_type": "code",
   "execution_count": 33,
   "metadata": {},
   "outputs": [
    {
     "name": "stdout",
     "output_type": "stream",
     "text": [
      "root\n",
      " |-- BibNum: string (nullable = true)\n",
      " |-- Title: string (nullable = true)\n",
      " |-- Author: string (nullable = true)\n",
      " |-- PublicationYear: string (nullable = true)\n",
      " |-- Publisher: string (nullable = true)\n",
      " |-- Subjects: string (nullable = true)\n",
      "\n"
     ]
    }
   ],
   "source": [
    "req_df.printSchema()"
   ]
  },
  {
   "cell_type": "code",
   "execution_count": 34,
   "metadata": {},
   "outputs": [
    {
     "data": {
      "text/plain": [
       "584901"
      ]
     },
     "execution_count": 34,
     "metadata": {},
     "output_type": "execute_result"
    }
   ],
   "source": [
    "req_df.count()"
   ]
  },
  {
   "cell_type": "code",
   "execution_count": 35,
   "metadata": {},
   "outputs": [],
   "source": [
    "data_frame_new = spark_session.read\\\n",
    "    .option(\"header\", \"true\")\\\n",
    "    .csv('hdfs://192.168.1.153:9000/team25/libraryDataset/Checkouts_By_Title_Data_Lens_*.csv')"
   ]
  },
  {
   "cell_type": "code",
   "execution_count": 36,
   "metadata": {},
   "outputs": [
    {
     "name": "stdout",
     "output_type": "stream",
     "text": [
      "+---------+-------------+--------+----------+--------------------+--------------------+\n",
      "|BibNumber|  ItemBarcode|ItemType|Collection|          CallNumber|    CheckoutDateTime|\n",
      "+---------+-------------+--------+----------+--------------------+--------------------+\n",
      "|  1842225|0010035249209|    acbk|     namys|  MYSTERY ELKINS1999|05/23/2005 03:20:...|\n",
      "|  1928264|0010037335444|    jcbk|     ncpic|            E TABACK|12/14/2005 05:56:...|\n",
      "|  1982511|0010039952527|   jcvhs|   ncvidnf|VHS J796.2 KNOW_Y...|08/11/2005 01:52:...|\n",
      "|  2026467|0010040985615|    accd|      nacd|  CD 782.421642 Y71T|10/19/2005 07:47:...|\n",
      "|  2174698|0010047696215|    jcbk|     ncpic|           E KROSOCZ|12/29/2005 03:42:...|\n",
      "|  1602768|0010028318730|    jcbk|     ncpic|             E BLACK|10/08/2005 02:15:...|\n",
      "|  2285195|0010053424767|    accd|      cacd|   CD 782.42166 F19R|09/30/2005 10:16:...|\n",
      "|  2245955|0010048392665|    jcbk|      ncnf|  J949.73 Or77S 2004|12/05/2005 05:03:...|\n",
      "|   770918|0010044828100|    jcbk|     ncpic|              E HILL|07/22/2005 03:17:...|\n",
      "|  2288252|0010053488788|   jcdvd|     ncdvd|        DVD J HOW DO|05/05/2005 11:18:...|\n",
      "|  2129883|0010044896768|   acdvd|     nadvd|         DVD GOOD TH|06/08/2005 05:44:...|\n",
      "|  1100696|0010039424485|    acbk|      nypb|          FIC COONEY|05/27/2005 04:54:...|\n",
      "|  2285204|0010053420229|    accd|      nacd|CD 782.421649 B7391B|05/19/2005 05:30:...|\n",
      "|  2122199|0010042855428|   acvhs|     navid|         VHS CHEYENN|04/15/2005 01:56:...|\n",
      "|  2294522|0010053508502|    accd|      nacd|   CD 782.14 Sch958W|05/21/2005 12:03:...|\n",
      "|   770947|0010050406320|    jcbk|     ncpic|           E MCCLOSK|11/15/2005 01:53:...|\n",
      "|  1960408|0010040719808|    jcbk|     ncrdr|          ER HENNESS|05/13/2005 11:19:...|\n",
      "|  2108680|0010045525168|    acbk|      nasf|     SCI-FIC SALVATO|09/08/2005 03:03:...|\n",
      "|  2192136|0010047112015|    acbk|      caln|VIETNAM 895.9223 ...|10/12/2005 05:33:...|\n",
      "|  2100945|0010044013315|   acvhs|     navid|         VHS TRAININ|09/09/2005 01:24:...|\n",
      "+---------+-------------+--------+----------+--------------------+--------------------+\n",
      "only showing top 20 rows\n",
      "\n"
     ]
    }
   ],
   "source": [
    "data_frame_new.show()"
   ]
  },
  {
   "cell_type": "code",
   "execution_count": 37,
   "metadata": {},
   "outputs": [
    {
     "data": {
      "text/plain": [
       "91980693"
      ]
     },
     "execution_count": 37,
     "metadata": {},
     "output_type": "execute_result"
    }
   ],
   "source": [
    "data_frame_new.count()"
   ]
  },
  {
   "cell_type": "code",
   "execution_count": 38,
   "metadata": {},
   "outputs": [
    {
     "data": {
      "text/plain": [
       "52"
      ]
     },
     "execution_count": 38,
     "metadata": {},
     "output_type": "execute_result"
    }
   ],
   "source": [
    "data_frame_new.rdd.getNumPartitions()"
   ]
  },
  {
   "cell_type": "code",
   "execution_count": 39,
   "metadata": {},
   "outputs": [
    {
     "name": "stdout",
     "output_type": "stream",
     "text": [
      "root\n",
      " |-- BibNumber: string (nullable = true)\n",
      " |-- ItemBarcode: string (nullable = true)\n",
      " |-- ItemType: string (nullable = true)\n",
      " |-- Collection: string (nullable = true)\n",
      " |-- CallNumber: string (nullable = true)\n",
      " |-- CheckoutDateTime: string (nullable = true)\n",
      "\n"
     ]
    }
   ],
   "source": [
    "data_frame_new.printSchema()"
   ]
  },
  {
   "cell_type": "code",
   "execution_count": 40,
   "metadata": {},
   "outputs": [],
   "source": [
    "# Load the csv from HDFS\n",
    "data_frame_latest = spark_session.read\\\n",
    "    .option(\"header\", \"true\")\\\n",
    "    .csv('hdfs://192.168.1.153:9000/team25/libraryDataset/Integrated_Library_System__ILS__Data_Dictionary.csv')\\\n",
    "    .cache()"
   ]
  },
  {
   "cell_type": "code",
   "execution_count": 41,
   "metadata": {},
   "outputs": [
    {
     "name": "stdout",
     "output_type": "stream",
     "text": [
      "+-------+--------------------+---------+------------+---------------+--------------+-----------------+\n",
      "|   Code|         Description|Code Type|Format Group|Format Subgroup|Category Group|Category Subgroup|\n",
      "+-------+--------------------+---------+------------+---------------+--------------+-----------------+\n",
      "| pkbknh|     Peak Picks Book| ItemType|        null|           null|          null|             null|\n",
      "|  acart|Framed Art: Adult/YA| ItemType|       Media|            Art|          null|             null|\n",
      "|   acbk|      Book: Adult/YA| ItemType|       Print|           Book|          null|             null|\n",
      "|  accas|Audio Tape: Adult/YA| ItemType|       Media|     Audio Tape|          null|             null|\n",
      "|   accd|        CD: Adult/YA| ItemType|       Media|     Audio Disc|          null|             null|\n",
      "|accdrom|    CD-ROM: Adult/YA| ItemType|       Media|      Data Disc|          null|             null|\n",
      "| acdisk|  Diskette: Adult/YA| ItemType|       Media|      Data Disc|          null|             null|\n",
      "|  acdvd|       DVD: Adult/YA| ItemType|       Media|     Video Disc|          null|             null|\n",
      "|   aceq| Equipment: Adult/YA| ItemType|   Equipment|           null|          null|             null|\n",
      "| aceqnh|Equipment: Adult/...| ItemType|   Equipment|           null|          null|             null|\n",
      "| acfold|    Folder: Adult/YA| ItemType|       Media|            Kit|          null|             null|\n",
      "|  ackit|       Kit: Adult/YA| ItemType|       Media|            Kit|          null|             null|\n",
      "|  acmap|       Map: Adult/YA| ItemType|       Print|           null|          null|             null|\n",
      "|  acmus|Music Score: Adul...| ItemType|       Print|    Music Score|          null|             null|\n",
      "|  acpam|  Pamphlet: Adult/ya| ItemType|       Print|           null|          null|             null|\n",
      "|  acper|  Magazine: Adult/ya| ItemType|       Print|     Periodical|          null|             null|\n",
      "|acphoto|Photographs: Adul...| ItemType|       Media|            Art|          null|             null|\n",
      "| acpost|    Poster: Adult/YA| ItemType|       Media|            Art|          null|             null|\n",
      "|  acrec|    Record: Adult/YA| ItemType|       Media|     Audio Disc|          null|             null|\n",
      "|acslide|    Slides: Adult/YA| ItemType|       Media|           Film|          null|             null|\n",
      "+-------+--------------------+---------+------------+---------------+--------------+-----------------+\n",
      "only showing top 20 rows\n",
      "\n"
     ]
    }
   ],
   "source": [
    "data_frame_latest.show()"
   ]
  },
  {
   "cell_type": "code",
   "execution_count": 42,
   "metadata": {},
   "outputs": [
    {
     "data": {
      "text/plain": [
       "555"
      ]
     },
     "execution_count": 42,
     "metadata": {},
     "output_type": "execute_result"
    }
   ],
   "source": [
    "data_frame_latest.count()"
   ]
  },
  {
   "cell_type": "code",
   "execution_count": 43,
   "metadata": {},
   "outputs": [
    {
     "data": {
      "text/plain": [
       "1"
      ]
     },
     "execution_count": 43,
     "metadata": {},
     "output_type": "execute_result"
    }
   ],
   "source": [
    "data_frame_latest.rdd.getNumPartitions()"
   ]
  },
  {
   "cell_type": "code",
   "execution_count": 44,
   "metadata": {},
   "outputs": [
    {
     "name": "stdout",
     "output_type": "stream",
     "text": [
      "root\n",
      " |-- Code: string (nullable = true)\n",
      " |-- Description: string (nullable = true)\n",
      " |-- Code Type: string (nullable = true)\n",
      " |-- Format Group: string (nullable = true)\n",
      " |-- Format Subgroup: string (nullable = true)\n",
      " |-- Category Group: string (nullable = true)\n",
      " |-- Category Subgroup: string (nullable = true)\n",
      "\n"
     ]
    }
   ],
   "source": [
    "data_frame_latest.printSchema()"
   ]
  },
  {
   "cell_type": "code",
   "execution_count": 45,
   "metadata": {},
   "outputs": [],
   "source": [
    "data_frame_merged = data_frame_new.join(data_frame_latest, data_frame_new.ItemType == data_frame_latest.Code)"
   ]
  },
  {
   "cell_type": "code",
   "execution_count": 46,
   "metadata": {},
   "outputs": [
    {
     "name": "stdout",
     "output_type": "stream",
     "text": [
      "+---------+-------------+--------+----------+--------------------+--------------------+-----+--------------------+---------+------------+---------------+--------------+-----------------+\n",
      "|BibNumber|  ItemBarcode|ItemType|Collection|          CallNumber|    CheckoutDateTime| Code|         Description|Code Type|Format Group|Format Subgroup|Category Group|Category Subgroup|\n",
      "+---------+-------------+--------+----------+--------------------+--------------------+-----+--------------------+---------+------------+---------------+--------------+-----------------+\n",
      "|  1842225|0010035249209|    acbk|     namys|  MYSTERY ELKINS1999|05/23/2005 03:20:...| acbk|      Book: Adult/YA| ItemType|       Print|           Book|          null|             null|\n",
      "|  1928264|0010037335444|    jcbk|     ncpic|            E TABACK|12/14/2005 05:56:...| jcbk|           Book: Juv| ItemType|       Print|           Book|          null|             null|\n",
      "|  1982511|0010039952527|   jcvhs|   ncvidnf|VHS J796.2 KNOW_Y...|08/11/2005 01:52:...|jcvhs|    Video (VHS): Juv| ItemType|       Media|     Video Tape|          null|             null|\n",
      "|  2026467|0010040985615|    accd|      nacd|  CD 782.421642 Y71T|10/19/2005 07:47:...| accd|        CD: Adult/YA| ItemType|       Media|     Audio Disc|          null|             null|\n",
      "|  2174698|0010047696215|    jcbk|     ncpic|           E KROSOCZ|12/29/2005 03:42:...| jcbk|           Book: Juv| ItemType|       Print|           Book|          null|             null|\n",
      "|  1602768|0010028318730|    jcbk|     ncpic|             E BLACK|10/08/2005 02:15:...| jcbk|           Book: Juv| ItemType|       Print|           Book|          null|             null|\n",
      "|  2285195|0010053424767|    accd|      cacd|   CD 782.42166 F19R|09/30/2005 10:16:...| accd|        CD: Adult/YA| ItemType|       Media|     Audio Disc|          null|             null|\n",
      "|  2245955|0010048392665|    jcbk|      ncnf|  J949.73 Or77S 2004|12/05/2005 05:03:...| jcbk|           Book: Juv| ItemType|       Print|           Book|          null|             null|\n",
      "|   770918|0010044828100|    jcbk|     ncpic|              E HILL|07/22/2005 03:17:...| jcbk|           Book: Juv| ItemType|       Print|           Book|          null|             null|\n",
      "|  2288252|0010053488788|   jcdvd|     ncdvd|        DVD J HOW DO|05/05/2005 11:18:...|jcdvd|DVD: Juv Circulating| ItemType|       Media|     Video Disc|          null|             null|\n",
      "|  2129883|0010044896768|   acdvd|     nadvd|         DVD GOOD TH|06/08/2005 05:44:...|acdvd|       DVD: Adult/YA| ItemType|       Media|     Video Disc|          null|             null|\n",
      "|  1100696|0010039424485|    acbk|      nypb|          FIC COONEY|05/27/2005 04:54:...| acbk|      Book: Adult/YA| ItemType|       Print|           Book|          null|             null|\n",
      "|  2285204|0010053420229|    accd|      nacd|CD 782.421649 B7391B|05/19/2005 05:30:...| accd|        CD: Adult/YA| ItemType|       Media|     Audio Disc|          null|             null|\n",
      "|  2122199|0010042855428|   acvhs|     navid|         VHS CHEYENN|04/15/2005 01:56:...|acvhs|Video (VHS): Adul...| ItemType|       Media|     Video Tape|          null|             null|\n",
      "|  2294522|0010053508502|    accd|      nacd|   CD 782.14 Sch958W|05/21/2005 12:03:...| accd|        CD: Adult/YA| ItemType|       Media|     Audio Disc|          null|             null|\n",
      "|   770947|0010050406320|    jcbk|     ncpic|           E MCCLOSK|11/15/2005 01:53:...| jcbk|           Book: Juv| ItemType|       Print|           Book|          null|             null|\n",
      "|  1960408|0010040719808|    jcbk|     ncrdr|          ER HENNESS|05/13/2005 11:19:...| jcbk|           Book: Juv| ItemType|       Print|           Book|          null|             null|\n",
      "|  2108680|0010045525168|    acbk|      nasf|     SCI-FIC SALVATO|09/08/2005 03:03:...| acbk|      Book: Adult/YA| ItemType|       Print|           Book|          null|             null|\n",
      "|  2192136|0010047112015|    acbk|      caln|VIETNAM 895.9223 ...|10/12/2005 05:33:...| acbk|      Book: Adult/YA| ItemType|       Print|           Book|          null|             null|\n",
      "|  2100945|0010044013315|   acvhs|     navid|         VHS TRAININ|09/09/2005 01:24:...|acvhs|Video (VHS): Adul...| ItemType|       Media|     Video Tape|          null|             null|\n",
      "+---------+-------------+--------+----------+--------------------+--------------------+-----+--------------------+---------+------------+---------------+--------------+-----------------+\n",
      "only showing top 20 rows\n",
      "\n"
     ]
    }
   ],
   "source": [
    "data_frame_merged.show()"
   ]
  },
  {
   "cell_type": "code",
   "execution_count": 47,
   "metadata": {},
   "outputs": [
    {
     "data": {
      "text/plain": [
       "91980694"
      ]
     },
     "execution_count": 47,
     "metadata": {},
     "output_type": "execute_result"
    }
   ],
   "source": [
    "data_frame_merged.count()"
   ]
  },
  {
   "cell_type": "code",
   "execution_count": 48,
   "metadata": {},
   "outputs": [],
   "source": [
    "merged_data_frame = data_frame_merged.join(req_df, data_frame_merged.BibNumber == req_df.BibNum)"
   ]
  },
  {
   "cell_type": "code",
   "execution_count": 49,
   "metadata": {},
   "outputs": [
    {
     "name": "stdout",
     "output_type": "stream",
     "text": [
      "+---------+-------------+--------+----------+-------------+--------------------+----+--------------+---------+------------+---------------+--------------+-----------------+------+--------------------+---------------+---------------+-----------------+--------------------+\n",
      "|BibNumber|  ItemBarcode|ItemType|Collection|   CallNumber|    CheckoutDateTime|Code|   Description|Code Type|Format Group|Format Subgroup|Category Group|Category Subgroup|BibNum|               Title|         Author|PublicationYear|        Publisher|            Subjects|\n",
      "+---------+-------------+--------+----------+-------------+--------------------+----+--------------+---------+------------+---------------+--------------+-----------------+------+--------------------+---------------+---------------+-----------------+--------------------+\n",
      "|   100704|0010007884181|    acbk|      canf|917.9794 W85M|09/21/2006 11:53:...|acbk|Book: Adult/YA| ItemType|       Print|           Book|          null|             null|100704|Men, mules, and m...|Wood, Robert L.|          1976.|The Mountaineers,|ONeil Joseph Patr...|\n",
      "|   100704|0010007144537|    acbk|      nanf|917.9794 W85M|06/22/2006 12:27:...|acbk|Book: Adult/YA| ItemType|       Print|           Book|          null|             null|100704|Men, mules, and m...|Wood, Robert L.|          1976.|The Mountaineers,|ONeil Joseph Patr...|\n",
      "|   100704|0010007144537|    acbk|      nanf|917.9794 W85M|03/28/2008 03:01:...|acbk|Book: Adult/YA| ItemType|       Print|           Book|          null|             null|100704|Men, mules, and m...|Wood, Robert L.|          1976.|The Mountaineers,|ONeil Joseph Patr...|\n",
      "|   100704|0000101463974|    acbk|      canf|917.9794 W85M|04/22/2008 04:24:...|acbk|Book: Adult/YA| ItemType|       Print|           Book|          null|             null|100704|Men, mules, and m...|Wood, Robert L.|          1976.|The Mountaineers,|ONeil Joseph Patr...|\n",
      "|   100704|0010005551840|    acbk|      canf|917.9794 W85M|11/21/2008 04:21:...|acbk|Book: Adult/YA| ItemType|       Print|           Book|          null|             null|100704|Men, mules, and m...|Wood, Robert L.|          1976.|The Mountaineers,|ONeil Joseph Patr...|\n",
      "|   100704|0000101463974|    acbk|      canf|917.9794 W85M|11/15/2008 03:20:...|acbk|Book: Adult/YA| ItemType|       Print|           Book|          null|             null|100704|Men, mules, and m...|Wood, Robert L.|          1976.|The Mountaineers,|ONeil Joseph Patr...|\n",
      "|   100704|0010005551840|    acbk|      canf|917.9794 W85M|06/10/2009 11:47:...|acbk|Book: Adult/YA| ItemType|       Print|           Book|          null|             null|100704|Men, mules, and m...|Wood, Robert L.|          1976.|The Mountaineers,|ONeil Joseph Patr...|\n",
      "|   100704|0000101463974|    acbk|      canf|917.9794 W85M|05/11/2009 06:19:...|acbk|Book: Adult/YA| ItemType|       Print|           Book|          null|             null|100704|Men, mules, and m...|Wood, Robert L.|          1976.|The Mountaineers,|ONeil Joseph Patr...|\n",
      "|   100704|0010005551840|    acbk|      canf|917.9794 W85M|08/19/2010 10:37:...|acbk|Book: Adult/YA| ItemType|       Print|           Book|          null|             null|100704|Men, mules, and m...|Wood, Robert L.|          1976.|The Mountaineers,|ONeil Joseph Patr...|\n",
      "|   100704|0010005551840|    acbk|      canf|917.9794 W85M|01/23/2013 02:01:...|acbk|Book: Adult/YA| ItemType|       Print|           Book|          null|             null|100704|Men, mules, and m...|Wood, Robert L.|          1976.|The Mountaineers,|ONeil Joseph Patr...|\n",
      "|   100704|0010005551840|    acbk|      canf|917.9794 W85M|07/11/2013 03:36:...|acbk|Book: Adult/YA| ItemType|       Print|           Book|          null|             null|100704|Men, mules, and m...|Wood, Robert L.|          1976.|The Mountaineers,|ONeil Joseph Patr...|\n",
      "|   100704|0010007884181|    acbk|      canf|917.9794 W85M|07/06/2014 01:07:...|acbk|Book: Adult/YA| ItemType|       Print|           Book|          null|             null|100704|Men, mules, and m...|Wood, Robert L.|          1976.|The Mountaineers,|ONeil Joseph Patr...|\n",
      "|   100704|0010005551840|    acbk|      canf|917.9794 W85M|06/06/2014 01:42:...|acbk|Book: Adult/YA| ItemType|       Print|           Book|          null|             null|100704|Men, mules, and m...|Wood, Robert L.|          1976.|The Mountaineers,|ONeil Joseph Patr...|\n",
      "|   100704|0010005551840|    acbk|      canf|917.9794 W85M|02/12/2016 02:09:...|acbk|Book: Adult/YA| ItemType|       Print|           Book|          null|             null|100704|Men, mules, and m...|Wood, Robert L.|          1976.|The Mountaineers,|ONeil Joseph Patr...|\n",
      "|   100704|0000101463974|    acbk|      canf|917.9794 W85M|02/18/2016 02:56:...|acbk|Book: Adult/YA| ItemType|       Print|           Book|          null|             null|100704|Men, mules, and m...|Wood, Robert L.|          1976.|The Mountaineers,|ONeil Joseph Patr...|\n",
      "|   100704|0010007884181|    acbk|      canf|917.9794 W85M|09/07/2016 11:49:...|acbk|Book: Adult/YA| ItemType|       Print|           Book|          null|             null|100704|Men, mules, and m...|Wood, Robert L.|          1976.|The Mountaineers,|ONeil Joseph Patr...|\n",
      "|   100704|0010007884181|    acbk|      canf|917.9794 W85M|02/12/2016 04:22:...|acbk|Book: Adult/YA| ItemType|       Print|           Book|          null|             null|100704|Men, mules, and m...|Wood, Robert L.|          1976.|The Mountaineers,|ONeil Joseph Patr...|\n",
      "|   100704|0000101463974|    acbk|      canf|917.9794 W85M|07/22/2006 12:50:...|acbk|Book: Adult/YA| ItemType|       Print|           Book|          null|             null|100704|Men, mules, and m...|Wood, Robert L.|          1976.|The Mountaineers,|ONeil Joseph Patr...|\n",
      "|   100704|0010007144537|    acbk|      nanf|917.9794 W85M|05/21/2006 03:25:...|acbk|Book: Adult/YA| ItemType|       Print|           Book|          null|             null|100704|Men, mules, and m...|Wood, Robert L.|          1976.|The Mountaineers,|ONeil Joseph Patr...|\n",
      "|   100704|0010007144537|    acbk|      nanf|917.9794 W85M|01/21/2006 12:32:...|acbk|Book: Adult/YA| ItemType|       Print|           Book|          null|             null|100704|Men, mules, and m...|Wood, Robert L.|          1976.|The Mountaineers,|ONeil Joseph Patr...|\n",
      "+---------+-------------+--------+----------+-------------+--------------------+----+--------------+---------+------------+---------------+--------------+-----------------+------+--------------------+---------------+---------------+-----------------+--------------------+\n",
      "only showing top 20 rows\n",
      "\n"
     ]
    }
   ],
   "source": [
    "merged_data_frame.show()"
   ]
  },
  {
   "cell_type": "code",
   "execution_count": 50,
   "metadata": {},
   "outputs": [
    {
     "data": {
      "text/plain": [
       "62566971"
      ]
     },
     "execution_count": 50,
     "metadata": {},
     "output_type": "execute_result"
    }
   ],
   "source": [
    "merged_data_frame.count()"
   ]
  },
  {
   "cell_type": "code",
   "execution_count": 51,
   "metadata": {},
   "outputs": [
    {
     "data": {
      "text/plain": [
       "200"
      ]
     },
     "execution_count": 51,
     "metadata": {},
     "output_type": "execute_result"
    }
   ],
   "source": [
    "merged_data_frame.rdd.getNumPartitions()"
   ]
  },
  {
   "cell_type": "code",
   "execution_count": 52,
   "metadata": {},
   "outputs": [
    {
     "name": "stdout",
     "output_type": "stream",
     "text": [
      "root\n",
      " |-- BibNumber: string (nullable = true)\n",
      " |-- ItemBarcode: string (nullable = true)\n",
      " |-- ItemType: string (nullable = true)\n",
      " |-- Collection: string (nullable = true)\n",
      " |-- CallNumber: string (nullable = true)\n",
      " |-- CheckoutDateTime: string (nullable = true)\n",
      " |-- Code: string (nullable = true)\n",
      " |-- Description: string (nullable = true)\n",
      " |-- Code Type: string (nullable = true)\n",
      " |-- Format Group: string (nullable = true)\n",
      " |-- Format Subgroup: string (nullable = true)\n",
      " |-- Category Group: string (nullable = true)\n",
      " |-- Category Subgroup: string (nullable = true)\n",
      " |-- BibNum: string (nullable = true)\n",
      " |-- Title: string (nullable = true)\n",
      " |-- Author: string (nullable = true)\n",
      " |-- PublicationYear: string (nullable = true)\n",
      " |-- Publisher: string (nullable = true)\n",
      " |-- Subjects: string (nullable = true)\n",
      "\n"
     ]
    }
   ],
   "source": [
    "merged_data_frame.printSchema()"
   ]
  },
  {
   "cell_type": "code",
   "execution_count": 61,
   "metadata": {},
   "outputs": [
    {
     "data": {
      "text/plain": [
       "'2019'"
      ]
     },
     "execution_count": 61,
     "metadata": {},
     "output_type": "execute_result"
    }
   ],
   "source": [
    "x='201909'\n",
    "x[0:4]"
   ]
  },
  {
   "cell_type": "code",
   "execution_count": 76,
   "metadata": {},
   "outputs": [],
   "source": [
    "import pyspark.sql.functions as f\n",
    "from pyspark.sql.functions import udf\n",
    "from pyspark.sql.types import IntegerType\n",
    "\n",
    "def convTime2Year(data):\n",
    "    newyear = data[6:10]\n",
    "    return int(newyear)\n",
    "\n",
    "udf_toyear = udf(convTime2Year, IntegerType())"
   ]
  },
  {
   "cell_type": "code",
   "execution_count": 82,
   "metadata": {},
   "outputs": [],
   "source": [
    "import time"
   ]
  },
  {
   "cell_type": "code",
   "execution_count": 77,
   "metadata": {},
   "outputs": [],
   "source": [
    "newdata = merged_data_frame.withColumn('Year', udf_toyear('CheckoutDateTime'))"
   ]
  },
  {
   "cell_type": "code",
   "execution_count": 79,
   "metadata": {},
   "outputs": [
    {
     "data": {
      "text/plain": [
       "Row(Year=2005)"
      ]
     },
     "execution_count": 79,
     "metadata": {},
     "output_type": "execute_result"
    }
   ],
   "source": [
    "newdata.select('Year').first()"
   ]
  },
  {
   "cell_type": "code",
   "execution_count": 83,
   "metadata": {},
   "outputs": [
    {
     "name": "stdout",
     "output_type": "stream",
     "text": [
      "139.55632281303406\n"
     ]
    }
   ],
   "source": [
    "start_time = time.time()\n",
    "merged_data_frame.select('CheckoutDateTime').first()\n",
    "print(time.time() - start_time)"
   ]
  },
  {
   "cell_type": "code",
   "execution_count": 56,
   "metadata": {},
   "outputs": [],
   "source": [
    "mostDesc = merged_data_frame.groupby('Description').count().select('Description', f.col('count')).orderBy('count',ascending=False).cache()"
   ]
  },
  {
   "cell_type": "code",
   "execution_count": 58,
   "metadata": {},
   "outputs": [],
   "source": [
    "mostAuthorBook = merged_data_frame.filter('`Format Subgroup` == \"Book\" ').groupby('Author','Format Subgroup').count().select('Author','Format Subgroup', f.col('count')).orderBy('count',ascending=False).cache()"
   ]
  },
  {
   "cell_type": "code",
   "execution_count": 59,
   "metadata": {},
   "outputs": [
    {
     "name": "stdout",
     "output_type": "stream",
     "text": [
      "+--------------------+---------------+-------+\n",
      "|              Author|Format Subgroup|  count|\n",
      "+--------------------+---------------+-------+\n",
      "|                null|           Book|1479059|\n",
      "|          Seuss, Dr.|           Book| 217611|\n",
      "|         Willems, Mo|           Book| 195779|\n",
      "|      Meadows, Daisy|           Book| 178522|\n",
      "|  Osborne, Mary Pope|           Book| 161940|\n",
      "|     Rylant, Cynthia|           Book| 154421|\n",
      "|Davis, Jim, 1945 ...|           Book| 144607|\n",
      "|   Stilton, Geronimo|           Book| 129746|\n",
      "|Patterson, James,...|           Book|  90592|\n",
      "|Berenstain, Stan,...|           Book|  90097|\n",
      "|   Holm, Jennifer L.|           Book|  79989|\n",
      "|        Arnold, Tedd|           Book|  76690|\n",
      "|  Pilkey, Dav, 1966-|           Book|  75180|\n",
      "|      O'Connor, Jane|           Book|  71431|\n",
      "|        Hunter, Erin|           Book|  70437|\n",
      "|         Carle, Eric|           Book|  64071|\n",
      "|       Park, Barbara|           Book|  58562|\n",
      "|       Riordan, Rick|           Book|  57823|\n",
      "|McCall Smith, Ale...|           Book|  56964|\n",
      "|     Roy, Ron, 1940-|           Book|  53008|\n",
      "+--------------------+---------------+-------+\n",
      "only showing top 20 rows\n",
      "\n"
     ]
    }
   ],
   "source": [
    "mostAuthorBook.show()"
   ]
  },
  {
   "cell_type": "code",
   "execution_count": 60,
   "metadata": {},
   "outputs": [
    {
     "name": "stdout",
     "output_type": "stream",
     "text": [
      "+--------------------+--------+\n",
      "|         Description|   count|\n",
      "+--------------------+--------+\n",
      "|      Book: Adult/YA|20076679|\n",
      "|       DVD: Adult/YA|15881200|\n",
      "|           Book: Juv|15840463|\n",
      "|        CD: Adult/YA| 7423766|\n",
      "|DVD: Juv Circulating| 2284498|\n",
      "|             CD: Juv|  812341|\n",
      "|Music Score: Adul...|  112357|\n",
      "|Book: Adult/Forme...|   29337|\n",
      "|            Kit: Juv|   27130|\n",
      "|     Peak Picks Book|   27093|\n",
      "| Equipment: Adult/YA|   17572|\n",
      "|  Book: Ref Adult/YA|   11775|\n",
      "|Laptop: Hourly Ci...|    6359|\n",
      "|  Uncataloged Folder|    5957|\n",
      "|DVD: Adult/Former...|    4230|\n",
      "|Song Book: Bound Juv|    1224|\n",
      "|Equipment: Adult/...|     887|\n",
      "|       Kit: Adult/YA|     393|\n",
      "|     Tablet computer|     386|\n",
      "|Equipment: Ref Ad...|     338|\n",
      "+--------------------+--------+\n",
      "only showing top 20 rows\n",
      "\n"
     ]
    }
   ],
   "source": [
    "mostDesc.show()"
   ]
  },
  {
   "cell_type": "code",
   "execution_count": 85,
   "metadata": {},
   "outputs": [],
   "source": [
    "mostSeuessYear = newdata.filter('`Author` == \"Seuss, Dr.\" ').groupby('Author','Year').count().select('Author','Year', f.col('count')).orderBy('Year',ascending=False).cache()"
   ]
  },
  {
   "cell_type": "code",
   "execution_count": 87,
   "metadata": {},
   "outputs": [
    {
     "name": "stdout",
     "output_type": "stream",
     "text": [
      "+----------+----+-----+\n",
      "|    Author|Year|count|\n",
      "+----------+----+-----+\n",
      "|Seuss, Dr.|2017|17029|\n",
      "|Seuss, Dr.|2016|19137|\n",
      "|Seuss, Dr.|2015|22353|\n",
      "|Seuss, Dr.|2014|21170|\n",
      "|Seuss, Dr.|2013|23796|\n",
      "|Seuss, Dr.|2012|25102|\n",
      "|Seuss, Dr.|2011|16706|\n",
      "|Seuss, Dr.|2010|17019|\n",
      "|Seuss, Dr.|2009|15387|\n",
      "|Seuss, Dr.|2008|14722|\n",
      "|Seuss, Dr.|2007|14667|\n",
      "|Seuss, Dr.|2006|13695|\n",
      "|Seuss, Dr.|2005| 9182|\n",
      "+----------+----+-----+\n",
      "\n"
     ]
    }
   ],
   "source": [
    "mostSeuessYear.show()"
   ]
  },
  {
   "cell_type": "code",
   "execution_count": 94,
   "metadata": {},
   "outputs": [],
   "source": [
    "import pyspark"
   ]
  },
  {
   "cell_type": "code",
   "execution_count": 95,
   "metadata": {},
   "outputs": [
    {
     "data": {
      "text/plain": [
       "DataFrame[BibNumber: string, ItemBarcode: string, ItemType: string, Collection: string, CallNumber: string, CheckoutDateTime: string, Code: string, Description: string, Code Type: string, Format Group: string, Format Subgroup: string, Category Group: string, Category Subgroup: string, BibNum: string, Title: string, Author: string, PublicationYear: string, Publisher: string, Subjects: string, Year: int]"
      ]
     },
     "execution_count": 95,
     "metadata": {},
     "output_type": "execute_result"
    }
   ],
   "source": [
    "newdata.persist(pyspark.StorageLevel.MEMORY_ONLY)"
   ]
  },
  {
   "cell_type": "code",
   "execution_count": 96,
   "metadata": {},
   "outputs": [
    {
     "data": {
      "text/plain": [
       "62566971"
      ]
     },
     "execution_count": 96,
     "metadata": {},
     "output_type": "execute_result"
    }
   ],
   "source": [
    "newdata.count()"
   ]
  },
  {
   "cell_type": "code",
   "execution_count": 108,
   "metadata": {},
   "outputs": [],
   "source": [
    "sizedf = newdata.filter('`Description` == \"Uncataloged Folder\"')"
   ]
  },
  {
   "cell_type": "code",
   "execution_count": 112,
   "metadata": {},
   "outputs": [
    {
     "ename": "KeyboardInterrupt",
     "evalue": "",
     "output_type": "error",
     "traceback": [
      "\u001b[0;31m---------------------------------------------------------------------------\u001b[0m",
      "\u001b[0;31mKeyboardInterrupt\u001b[0m                         Traceback (most recent call last)",
      "\u001b[0;32m<ipython-input-112-d4c45d0ff606>\u001b[0m in \u001b[0;36m<module>\u001b[0;34m()\u001b[0m\n\u001b[0;32m----> 1\u001b[0;31m \u001b[0msizedf\u001b[0m\u001b[0;34m.\u001b[0m\u001b[0mcount\u001b[0m\u001b[0;34m(\u001b[0m\u001b[0;34m)\u001b[0m\u001b[0;34m\u001b[0m\u001b[0;34m\u001b[0m\u001b[0m\n\u001b[0m",
      "\u001b[0;32m/home/ubuntu/.local/lib/python3.6/site-packages/pyspark/sql/dataframe.py\u001b[0m in \u001b[0;36mcount\u001b[0;34m(self)\u001b[0m\n\u001b[1;32m    520\u001b[0m         \u001b[0;36m2\u001b[0m\u001b[0;34m\u001b[0m\u001b[0;34m\u001b[0m\u001b[0m\n\u001b[1;32m    521\u001b[0m         \"\"\"\n\u001b[0;32m--> 522\u001b[0;31m         \u001b[0;32mreturn\u001b[0m \u001b[0mint\u001b[0m\u001b[0;34m(\u001b[0m\u001b[0mself\u001b[0m\u001b[0;34m.\u001b[0m\u001b[0m_jdf\u001b[0m\u001b[0;34m.\u001b[0m\u001b[0mcount\u001b[0m\u001b[0;34m(\u001b[0m\u001b[0;34m)\u001b[0m\u001b[0;34m)\u001b[0m\u001b[0;34m\u001b[0m\u001b[0;34m\u001b[0m\u001b[0m\n\u001b[0m\u001b[1;32m    523\u001b[0m \u001b[0;34m\u001b[0m\u001b[0m\n\u001b[1;32m    524\u001b[0m     \u001b[0;34m@\u001b[0m\u001b[0mignore_unicode_prefix\u001b[0m\u001b[0;34m\u001b[0m\u001b[0;34m\u001b[0m\u001b[0m\n",
      "\u001b[0;32m/home/ubuntu/.local/lib/python3.6/site-packages/py4j/java_gateway.py\u001b[0m in \u001b[0;36m__call__\u001b[0;34m(self, *args)\u001b[0m\n\u001b[1;32m   1253\u001b[0m             \u001b[0mproto\u001b[0m\u001b[0;34m.\u001b[0m\u001b[0mEND_COMMAND_PART\u001b[0m\u001b[0;34m\u001b[0m\u001b[0;34m\u001b[0m\u001b[0m\n\u001b[1;32m   1254\u001b[0m \u001b[0;34m\u001b[0m\u001b[0m\n\u001b[0;32m-> 1255\u001b[0;31m         \u001b[0manswer\u001b[0m \u001b[0;34m=\u001b[0m \u001b[0mself\u001b[0m\u001b[0;34m.\u001b[0m\u001b[0mgateway_client\u001b[0m\u001b[0;34m.\u001b[0m\u001b[0msend_command\u001b[0m\u001b[0;34m(\u001b[0m\u001b[0mcommand\u001b[0m\u001b[0;34m)\u001b[0m\u001b[0;34m\u001b[0m\u001b[0;34m\u001b[0m\u001b[0m\n\u001b[0m\u001b[1;32m   1256\u001b[0m         return_value = get_return_value(\n\u001b[1;32m   1257\u001b[0m             answer, self.gateway_client, self.target_id, self.name)\n",
      "\u001b[0;32m/home/ubuntu/.local/lib/python3.6/site-packages/py4j/java_gateway.py\u001b[0m in \u001b[0;36msend_command\u001b[0;34m(self, command, retry, binary)\u001b[0m\n\u001b[1;32m    983\u001b[0m         \u001b[0mconnection\u001b[0m \u001b[0;34m=\u001b[0m \u001b[0mself\u001b[0m\u001b[0;34m.\u001b[0m\u001b[0m_get_connection\u001b[0m\u001b[0;34m(\u001b[0m\u001b[0;34m)\u001b[0m\u001b[0;34m\u001b[0m\u001b[0;34m\u001b[0m\u001b[0m\n\u001b[1;32m    984\u001b[0m         \u001b[0;32mtry\u001b[0m\u001b[0;34m:\u001b[0m\u001b[0;34m\u001b[0m\u001b[0;34m\u001b[0m\u001b[0m\n\u001b[0;32m--> 985\u001b[0;31m             \u001b[0mresponse\u001b[0m \u001b[0;34m=\u001b[0m \u001b[0mconnection\u001b[0m\u001b[0;34m.\u001b[0m\u001b[0msend_command\u001b[0m\u001b[0;34m(\u001b[0m\u001b[0mcommand\u001b[0m\u001b[0;34m)\u001b[0m\u001b[0;34m\u001b[0m\u001b[0;34m\u001b[0m\u001b[0m\n\u001b[0m\u001b[1;32m    986\u001b[0m             \u001b[0;32mif\u001b[0m \u001b[0mbinary\u001b[0m\u001b[0;34m:\u001b[0m\u001b[0;34m\u001b[0m\u001b[0;34m\u001b[0m\u001b[0m\n\u001b[1;32m    987\u001b[0m                 \u001b[0;32mreturn\u001b[0m \u001b[0mresponse\u001b[0m\u001b[0;34m,\u001b[0m \u001b[0mself\u001b[0m\u001b[0;34m.\u001b[0m\u001b[0m_create_connection_guard\u001b[0m\u001b[0;34m(\u001b[0m\u001b[0mconnection\u001b[0m\u001b[0;34m)\u001b[0m\u001b[0;34m\u001b[0m\u001b[0;34m\u001b[0m\u001b[0m\n",
      "\u001b[0;32m/home/ubuntu/.local/lib/python3.6/site-packages/py4j/java_gateway.py\u001b[0m in \u001b[0;36msend_command\u001b[0;34m(self, command)\u001b[0m\n\u001b[1;32m   1150\u001b[0m \u001b[0;34m\u001b[0m\u001b[0m\n\u001b[1;32m   1151\u001b[0m         \u001b[0;32mtry\u001b[0m\u001b[0;34m:\u001b[0m\u001b[0;34m\u001b[0m\u001b[0;34m\u001b[0m\u001b[0m\n\u001b[0;32m-> 1152\u001b[0;31m             \u001b[0manswer\u001b[0m \u001b[0;34m=\u001b[0m \u001b[0msmart_decode\u001b[0m\u001b[0;34m(\u001b[0m\u001b[0mself\u001b[0m\u001b[0;34m.\u001b[0m\u001b[0mstream\u001b[0m\u001b[0;34m.\u001b[0m\u001b[0mreadline\u001b[0m\u001b[0;34m(\u001b[0m\u001b[0;34m)\u001b[0m\u001b[0;34m[\u001b[0m\u001b[0;34m:\u001b[0m\u001b[0;34m-\u001b[0m\u001b[0;36m1\u001b[0m\u001b[0;34m]\u001b[0m\u001b[0;34m)\u001b[0m\u001b[0;34m\u001b[0m\u001b[0;34m\u001b[0m\u001b[0m\n\u001b[0m\u001b[1;32m   1153\u001b[0m             \u001b[0mlogger\u001b[0m\u001b[0;34m.\u001b[0m\u001b[0mdebug\u001b[0m\u001b[0;34m(\u001b[0m\u001b[0;34m\"Answer received: {0}\"\u001b[0m\u001b[0;34m.\u001b[0m\u001b[0mformat\u001b[0m\u001b[0;34m(\u001b[0m\u001b[0manswer\u001b[0m\u001b[0;34m)\u001b[0m\u001b[0;34m)\u001b[0m\u001b[0;34m\u001b[0m\u001b[0;34m\u001b[0m\u001b[0m\n\u001b[1;32m   1154\u001b[0m             \u001b[0;32mif\u001b[0m \u001b[0manswer\u001b[0m\u001b[0;34m.\u001b[0m\u001b[0mstartswith\u001b[0m\u001b[0;34m(\u001b[0m\u001b[0mproto\u001b[0m\u001b[0;34m.\u001b[0m\u001b[0mRETURN_MESSAGE\u001b[0m\u001b[0;34m)\u001b[0m\u001b[0;34m:\u001b[0m\u001b[0;34m\u001b[0m\u001b[0;34m\u001b[0m\u001b[0m\n",
      "\u001b[0;32m/usr/lib/python3.6/socket.py\u001b[0m in \u001b[0;36mreadinto\u001b[0;34m(self, b)\u001b[0m\n\u001b[1;32m    584\u001b[0m         \u001b[0;32mwhile\u001b[0m \u001b[0;32mTrue\u001b[0m\u001b[0;34m:\u001b[0m\u001b[0;34m\u001b[0m\u001b[0;34m\u001b[0m\u001b[0m\n\u001b[1;32m    585\u001b[0m             \u001b[0;32mtry\u001b[0m\u001b[0;34m:\u001b[0m\u001b[0;34m\u001b[0m\u001b[0;34m\u001b[0m\u001b[0m\n\u001b[0;32m--> 586\u001b[0;31m                 \u001b[0;32mreturn\u001b[0m \u001b[0mself\u001b[0m\u001b[0;34m.\u001b[0m\u001b[0m_sock\u001b[0m\u001b[0;34m.\u001b[0m\u001b[0mrecv_into\u001b[0m\u001b[0;34m(\u001b[0m\u001b[0mb\u001b[0m\u001b[0;34m)\u001b[0m\u001b[0;34m\u001b[0m\u001b[0;34m\u001b[0m\u001b[0m\n\u001b[0m\u001b[1;32m    587\u001b[0m             \u001b[0;32mexcept\u001b[0m \u001b[0mtimeout\u001b[0m\u001b[0;34m:\u001b[0m\u001b[0;34m\u001b[0m\u001b[0;34m\u001b[0m\u001b[0m\n\u001b[1;32m    588\u001b[0m                 \u001b[0mself\u001b[0m\u001b[0;34m.\u001b[0m\u001b[0m_timeout_occurred\u001b[0m \u001b[0;34m=\u001b[0m \u001b[0;32mTrue\u001b[0m\u001b[0;34m\u001b[0m\u001b[0;34m\u001b[0m\u001b[0m\n",
      "\u001b[0;31mKeyboardInterrupt\u001b[0m: "
     ]
    }
   ],
   "source": [
    "sizedf.count()"
   ]
  },
  {
   "cell_type": "code",
   "execution_count": null,
   "metadata": {},
   "outputs": [],
   "source": [
    "sizedf.rdd.getNumPartitions()"
   ]
  },
  {
   "cell_type": "code",
   "execution_count": 111,
   "metadata": {},
   "outputs": [
    {
     "ename": "KeyboardInterrupt",
     "evalue": "",
     "output_type": "error",
     "traceback": [
      "\u001b[0;31m---------------------------------------------------------------------------\u001b[0m",
      "\u001b[0;31mKeyboardInterrupt\u001b[0m                         Traceback (most recent call last)",
      "\u001b[0;32m<ipython-input-111-3ef5e018b842>\u001b[0m in \u001b[0;36m<module>\u001b[0;34m()\u001b[0m\n\u001b[0;32m----> 1\u001b[0;31m \u001b[0msizedf\u001b[0m\u001b[0;34m.\u001b[0m\u001b[0mwrite\u001b[0m\u001b[0;34m.\u001b[0m\u001b[0mcsv\u001b[0m\u001b[0;34m(\u001b[0m\u001b[0;34m'hdfs://192.168.1.153:9000/team25/libraryDataset/temp.csv'\u001b[0m\u001b[0;34m)\u001b[0m\u001b[0;34m\u001b[0m\u001b[0;34m\u001b[0m\u001b[0m\n\u001b[0m",
      "\u001b[0;32m/home/ubuntu/.local/lib/python3.6/site-packages/pyspark/sql/readwriter.py\u001b[0m in \u001b[0;36mcsv\u001b[0;34m(self, path, mode, compression, sep, quote, escape, header, nullValue, escapeQuotes, quoteAll, dateFormat, timestampFormat, ignoreLeadingWhiteSpace, ignoreTrailingWhiteSpace, charToEscapeQuoteEscaping, encoding, emptyValue)\u001b[0m\n\u001b[1;32m    925\u001b[0m                        \u001b[0mcharToEscapeQuoteEscaping\u001b[0m\u001b[0;34m=\u001b[0m\u001b[0mcharToEscapeQuoteEscaping\u001b[0m\u001b[0;34m,\u001b[0m\u001b[0;34m\u001b[0m\u001b[0;34m\u001b[0m\u001b[0m\n\u001b[1;32m    926\u001b[0m                        encoding=encoding, emptyValue=emptyValue)\n\u001b[0;32m--> 927\u001b[0;31m         \u001b[0mself\u001b[0m\u001b[0;34m.\u001b[0m\u001b[0m_jwrite\u001b[0m\u001b[0;34m.\u001b[0m\u001b[0mcsv\u001b[0m\u001b[0;34m(\u001b[0m\u001b[0mpath\u001b[0m\u001b[0;34m)\u001b[0m\u001b[0;34m\u001b[0m\u001b[0;34m\u001b[0m\u001b[0m\n\u001b[0m\u001b[1;32m    928\u001b[0m \u001b[0;34m\u001b[0m\u001b[0m\n\u001b[1;32m    929\u001b[0m     \u001b[0;34m@\u001b[0m\u001b[0msince\u001b[0m\u001b[0;34m(\u001b[0m\u001b[0;36m1.5\u001b[0m\u001b[0;34m)\u001b[0m\u001b[0;34m\u001b[0m\u001b[0;34m\u001b[0m\u001b[0m\n",
      "\u001b[0;32m/home/ubuntu/.local/lib/python3.6/site-packages/py4j/java_gateway.py\u001b[0m in \u001b[0;36m__call__\u001b[0;34m(self, *args)\u001b[0m\n\u001b[1;32m   1253\u001b[0m             \u001b[0mproto\u001b[0m\u001b[0;34m.\u001b[0m\u001b[0mEND_COMMAND_PART\u001b[0m\u001b[0;34m\u001b[0m\u001b[0;34m\u001b[0m\u001b[0m\n\u001b[1;32m   1254\u001b[0m \u001b[0;34m\u001b[0m\u001b[0m\n\u001b[0;32m-> 1255\u001b[0;31m         \u001b[0manswer\u001b[0m \u001b[0;34m=\u001b[0m \u001b[0mself\u001b[0m\u001b[0;34m.\u001b[0m\u001b[0mgateway_client\u001b[0m\u001b[0;34m.\u001b[0m\u001b[0msend_command\u001b[0m\u001b[0;34m(\u001b[0m\u001b[0mcommand\u001b[0m\u001b[0;34m)\u001b[0m\u001b[0;34m\u001b[0m\u001b[0;34m\u001b[0m\u001b[0m\n\u001b[0m\u001b[1;32m   1256\u001b[0m         return_value = get_return_value(\n\u001b[1;32m   1257\u001b[0m             answer, self.gateway_client, self.target_id, self.name)\n",
      "\u001b[0;32m/home/ubuntu/.local/lib/python3.6/site-packages/py4j/java_gateway.py\u001b[0m in \u001b[0;36msend_command\u001b[0;34m(self, command, retry, binary)\u001b[0m\n\u001b[1;32m    983\u001b[0m         \u001b[0mconnection\u001b[0m \u001b[0;34m=\u001b[0m \u001b[0mself\u001b[0m\u001b[0;34m.\u001b[0m\u001b[0m_get_connection\u001b[0m\u001b[0;34m(\u001b[0m\u001b[0;34m)\u001b[0m\u001b[0;34m\u001b[0m\u001b[0;34m\u001b[0m\u001b[0m\n\u001b[1;32m    984\u001b[0m         \u001b[0;32mtry\u001b[0m\u001b[0;34m:\u001b[0m\u001b[0;34m\u001b[0m\u001b[0;34m\u001b[0m\u001b[0m\n\u001b[0;32m--> 985\u001b[0;31m             \u001b[0mresponse\u001b[0m \u001b[0;34m=\u001b[0m \u001b[0mconnection\u001b[0m\u001b[0;34m.\u001b[0m\u001b[0msend_command\u001b[0m\u001b[0;34m(\u001b[0m\u001b[0mcommand\u001b[0m\u001b[0;34m)\u001b[0m\u001b[0;34m\u001b[0m\u001b[0;34m\u001b[0m\u001b[0m\n\u001b[0m\u001b[1;32m    986\u001b[0m             \u001b[0;32mif\u001b[0m \u001b[0mbinary\u001b[0m\u001b[0;34m:\u001b[0m\u001b[0;34m\u001b[0m\u001b[0;34m\u001b[0m\u001b[0m\n\u001b[1;32m    987\u001b[0m                 \u001b[0;32mreturn\u001b[0m \u001b[0mresponse\u001b[0m\u001b[0;34m,\u001b[0m \u001b[0mself\u001b[0m\u001b[0;34m.\u001b[0m\u001b[0m_create_connection_guard\u001b[0m\u001b[0;34m(\u001b[0m\u001b[0mconnection\u001b[0m\u001b[0;34m)\u001b[0m\u001b[0;34m\u001b[0m\u001b[0;34m\u001b[0m\u001b[0m\n",
      "\u001b[0;32m/home/ubuntu/.local/lib/python3.6/site-packages/py4j/java_gateway.py\u001b[0m in \u001b[0;36msend_command\u001b[0;34m(self, command)\u001b[0m\n\u001b[1;32m   1150\u001b[0m \u001b[0;34m\u001b[0m\u001b[0m\n\u001b[1;32m   1151\u001b[0m         \u001b[0;32mtry\u001b[0m\u001b[0;34m:\u001b[0m\u001b[0;34m\u001b[0m\u001b[0;34m\u001b[0m\u001b[0m\n\u001b[0;32m-> 1152\u001b[0;31m             \u001b[0manswer\u001b[0m \u001b[0;34m=\u001b[0m \u001b[0msmart_decode\u001b[0m\u001b[0;34m(\u001b[0m\u001b[0mself\u001b[0m\u001b[0;34m.\u001b[0m\u001b[0mstream\u001b[0m\u001b[0;34m.\u001b[0m\u001b[0mreadline\u001b[0m\u001b[0;34m(\u001b[0m\u001b[0;34m)\u001b[0m\u001b[0;34m[\u001b[0m\u001b[0;34m:\u001b[0m\u001b[0;34m-\u001b[0m\u001b[0;36m1\u001b[0m\u001b[0;34m]\u001b[0m\u001b[0;34m)\u001b[0m\u001b[0;34m\u001b[0m\u001b[0;34m\u001b[0m\u001b[0m\n\u001b[0m\u001b[1;32m   1153\u001b[0m             \u001b[0mlogger\u001b[0m\u001b[0;34m.\u001b[0m\u001b[0mdebug\u001b[0m\u001b[0;34m(\u001b[0m\u001b[0;34m\"Answer received: {0}\"\u001b[0m\u001b[0;34m.\u001b[0m\u001b[0mformat\u001b[0m\u001b[0;34m(\u001b[0m\u001b[0manswer\u001b[0m\u001b[0;34m)\u001b[0m\u001b[0;34m)\u001b[0m\u001b[0;34m\u001b[0m\u001b[0;34m\u001b[0m\u001b[0m\n\u001b[1;32m   1154\u001b[0m             \u001b[0;32mif\u001b[0m \u001b[0manswer\u001b[0m\u001b[0;34m.\u001b[0m\u001b[0mstartswith\u001b[0m\u001b[0;34m(\u001b[0m\u001b[0mproto\u001b[0m\u001b[0;34m.\u001b[0m\u001b[0mRETURN_MESSAGE\u001b[0m\u001b[0;34m)\u001b[0m\u001b[0;34m:\u001b[0m\u001b[0;34m\u001b[0m\u001b[0;34m\u001b[0m\u001b[0m\n",
      "\u001b[0;32m/usr/lib/python3.6/socket.py\u001b[0m in \u001b[0;36mreadinto\u001b[0;34m(self, b)\u001b[0m\n\u001b[1;32m    584\u001b[0m         \u001b[0;32mwhile\u001b[0m \u001b[0;32mTrue\u001b[0m\u001b[0;34m:\u001b[0m\u001b[0;34m\u001b[0m\u001b[0;34m\u001b[0m\u001b[0m\n\u001b[1;32m    585\u001b[0m             \u001b[0;32mtry\u001b[0m\u001b[0;34m:\u001b[0m\u001b[0;34m\u001b[0m\u001b[0;34m\u001b[0m\u001b[0m\n\u001b[0;32m--> 586\u001b[0;31m                 \u001b[0;32mreturn\u001b[0m \u001b[0mself\u001b[0m\u001b[0;34m.\u001b[0m\u001b[0m_sock\u001b[0m\u001b[0;34m.\u001b[0m\u001b[0mrecv_into\u001b[0m\u001b[0;34m(\u001b[0m\u001b[0mb\u001b[0m\u001b[0;34m)\u001b[0m\u001b[0;34m\u001b[0m\u001b[0;34m\u001b[0m\u001b[0m\n\u001b[0m\u001b[1;32m    587\u001b[0m             \u001b[0;32mexcept\u001b[0m \u001b[0mtimeout\u001b[0m\u001b[0;34m:\u001b[0m\u001b[0;34m\u001b[0m\u001b[0;34m\u001b[0m\u001b[0m\n\u001b[1;32m    588\u001b[0m                 \u001b[0mself\u001b[0m\u001b[0;34m.\u001b[0m\u001b[0m_timeout_occurred\u001b[0m \u001b[0;34m=\u001b[0m \u001b[0;32mTrue\u001b[0m\u001b[0;34m\u001b[0m\u001b[0;34m\u001b[0m\u001b[0m\n",
      "\u001b[0;31mKeyboardInterrupt\u001b[0m: "
     ]
    }
   ],
   "source": [
    "sizedf.write.csv('hdfs://192.168.1.153:9000/team25/libraryDataset/temp.csv')"
   ]
  },
  {
   "cell_type": "code",
   "execution_count": null,
   "metadata": {},
   "outputs": [],
   "source": []
  },
  {
   "cell_type": "code",
   "execution_count": null,
   "metadata": {},
   "outputs": [],
   "source": []
  }
 ],
 "metadata": {
  "kernelspec": {
   "display_name": "Python 3",
   "language": "python",
   "name": "python3"
  },
  "language_info": {
   "codemirror_mode": {
    "name": "ipython",
    "version": 3
   },
   "file_extension": ".py",
   "mimetype": "text/x-python",
   "name": "python",
   "nbconvert_exporter": "python",
   "pygments_lexer": "ipython3",
   "version": "3.6.7"
  }
 },
 "nbformat": 4,
 "nbformat_minor": 2
}
